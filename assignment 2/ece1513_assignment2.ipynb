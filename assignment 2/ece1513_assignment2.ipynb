{
  "nbformat": 4,
  "nbformat_minor": 0,
  "metadata": {
    "colab": {
      "name": "ece1513_assignment2.ipynb",
      "provenance": [],
      "collapsed_sections": [],
      "toc_visible": true
    },
    "kernelspec": {
      "display_name": "Python 3",
      "language": "python",
      "name": "python3"
    },
    "language_info": {
      "codemirror_mode": {
        "name": "ipython",
        "version": 3
      },
      "file_extension": ".py",
      "mimetype": "text/x-python",
      "name": "python",
      "nbconvert_exporter": "python",
      "pygments_lexer": "ipython3",
      "version": "3.5.2"
    }
  },
  "cells": [
    {
      "cell_type": "markdown",
      "metadata": {
        "colab_type": "text",
        "id": "1Q9fVFP3jN8K"
      },
      "source": [
        "# perceptron algorithm"
      ]
    },
    {
      "cell_type": "code",
      "metadata": {
        "colab_type": "code",
        "id": "L8huSRu-jP8M",
        "colab": {}
      },
      "source": [
        "import numpy as np"
      ],
      "execution_count": 0,
      "outputs": []
    },
    {
      "cell_type": "code",
      "metadata": {
        "colab_type": "code",
        "id": "NU4ey8GO0vB0",
        "colab": {
          "base_uri": "https://localhost:8080/",
          "height": 136
        },
        "outputId": "85a76dd7-98d0-4abc-8cba-8ab2136abd64"
      },
      "source": [
        "from sklearn.datasets import load_breast_cancer\n",
        "breast_cancer = load_breast_cancer()\n",
        "X = breast_cancer.data#(569, 30)\n",
        "Y = breast_cancer.target#(569,)\n",
        "bias = np.ones((X.shape[0],1))\n",
        "X_final = np.concatenate((bias,X),axis=1)#569,31\n",
        "X_final"
      ],
      "execution_count": 2,
      "outputs": [
        {
          "output_type": "execute_result",
          "data": {
            "text/plain": [
              "array([[ 1.     , 17.99   , 10.38   , ...,  0.2654 ,  0.4601 ,  0.1189 ],\n",
              "       [ 1.     , 20.57   , 17.77   , ...,  0.186  ,  0.275  ,  0.08902],\n",
              "       [ 1.     , 19.69   , 21.25   , ...,  0.243  ,  0.3613 ,  0.08758],\n",
              "       ...,\n",
              "       [ 1.     , 16.6    , 28.08   , ...,  0.1418 ,  0.2218 ,  0.0782 ],\n",
              "       [ 1.     , 20.6    , 29.33   , ...,  0.265  ,  0.4087 ,  0.124  ],\n",
              "       [ 1.     ,  7.76   , 24.54   , ...,  0.     ,  0.2871 ,  0.07039]])"
            ]
          },
          "metadata": {
            "tags": []
          },
          "execution_count": 2
        }
      ]
    },
    {
      "cell_type": "code",
      "metadata": {
        "colab_type": "code",
        "id": "0miWPyiJ1I7z",
        "colab": {}
      },
      "source": [
        "for i in range(0,len(Y),1):\n",
        "   if Y[i] == 0:\n",
        "     Y[i]=-1"
      ],
      "execution_count": 0,
      "outputs": []
    },
    {
      "cell_type": "code",
      "metadata": {
        "colab_type": "code",
        "id": "fa-nZgj21G48",
        "colab": {}
      },
      "source": [
        "train_X = X_final[:450]\n",
        "test_X = X_final[450:]\n",
        "train_Y = Y[:450]\n",
        "test_Y = Y[450:]\n"
      ],
      "execution_count": 0,
      "outputs": []
    },
    {
      "cell_type": "code",
      "metadata": {
        "colab_type": "code",
        "id": "HyKqIXIRjhbl",
        "colab": {}
      },
      "source": [
        "def perceptron_learning(X, Y, epochs = 10, lr = 1):\n",
        "    w = np.zeros(X_final.shape[1])\n",
        "    #for all epochs, apply perceptron learning rule\n",
        "    for _ in range(epochs):\n",
        "      for x, y in zip(X, Y):\n",
        "        z = np.dot(x, w)\n",
        "        if (z*y) <= 0:\n",
        "          w = w + lr*x*y\n",
        "    return w"
      ],
      "execution_count": 0,
      "outputs": []
    },
    {
      "cell_type": "code",
      "metadata": {
        "colab_type": "code",
        "id": "Q8a-gxJ_ps82",
        "outputId": "e148da2f-0a75-4e51-d8e9-08a6f7d8cf63",
        "colab": {
          "base_uri": "https://localhost:8080/",
          "height": 153
        }
      },
      "source": [
        "w_final = perceptron_learning(train_X, train_Y, 1000, 0.1)\n",
        "w_final"
      ],
      "execution_count": 6,
      "outputs": [
        {
          "output_type": "execute_result",
          "data": {
            "text/plain": [
              "array([ 2.21800000e+02,  1.70512720e+03, -2.11807000e+03,  5.57750400e+03,\n",
              "        2.38040000e+02, -1.70818760e+01, -1.39030927e+02, -2.06372691e+02,\n",
              "       -7.86012554e+01, -1.63953800e+01, -4.61140200e+00,  3.40984700e+01,\n",
              "        1.00210000e+00, -3.14752860e+02, -1.31867400e+03, -4.11094860e+00,\n",
              "       -3.46604789e+01, -4.98204713e+01, -1.06000394e+01, -1.05573154e+01,\n",
              "       -2.33088815e+00,  1.79423220e+03, -2.91640400e+03,  1.76135200e+03,\n",
              "       -8.99200000e+02, -3.58028010e+01, -4.50824018e+02, -5.67751086e+02,\n",
              "       -1.51529426e+02, -9.39034600e+01, -3.40185550e+01])"
            ]
          },
          "metadata": {
            "tags": []
          },
          "execution_count": 6
        }
      ]
    },
    {
      "cell_type": "code",
      "metadata": {
        "colab_type": "code",
        "id": "CCmo9fl4HPR0",
        "colab": {}
      },
      "source": [
        "def predict(X,weight):\n",
        "  result = []\n",
        "  pred = np.dot(X,weight)\n",
        "  for i in pred:\n",
        "    if i > 0:\n",
        "        i = 1\n",
        "    else:\n",
        "        i = -1\n",
        "    result.append(i)          \n",
        "  return result"
      ],
      "execution_count": 0,
      "outputs": []
    },
    {
      "cell_type": "code",
      "metadata": {
        "colab_type": "code",
        "id": "_0jNduwDGV5z",
        "colab": {}
      },
      "source": [
        "y_train_pred = predict(train_X,w_final)\n",
        "y_test_pred = predict(test_X,w_final)"
      ],
      "execution_count": 0,
      "outputs": []
    },
    {
      "cell_type": "code",
      "metadata": {
        "colab_type": "code",
        "id": "yB8srJf6D8XI",
        "outputId": "bdb68d18-3b7f-4586-cbe0-c8dec45b14a5",
        "colab": {
          "base_uri": "https://localhost:8080/",
          "height": 34
        }
      },
      "source": [
        "res=(y_test_pred==test_Y).sum()\n",
        "test_error = round(100*(res/len(test_Y)),4)\n",
        "test_error"
      ],
      "execution_count": 9,
      "outputs": [
        {
          "output_type": "execute_result",
          "data": {
            "text/plain": [
              "95.7983"
            ]
          },
          "metadata": {
            "tags": []
          },
          "execution_count": 9
        }
      ]
    }
  ]
}