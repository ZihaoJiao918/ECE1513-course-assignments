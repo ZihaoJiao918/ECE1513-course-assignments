{
  "nbformat": 4,
  "nbformat_minor": 0,
  "metadata": {
    "colab": {
      "name": "A3_Logistic.ipynb",
      "provenance": []
    },
    "kernelspec": {
      "name": "python3",
      "display_name": "Python 3"
    }
  },
  "cells": [
    {
      "cell_type": "code",
      "metadata": {
        "id": "CQzaz9VmQx6i",
        "colab_type": "code",
        "colab": {}
      },
      "source": [
        "import numpy as np\n",
        "import math\n",
        "from numpy.random import rand\n",
        "import matplotlib.pyplot as plt"
      ],
      "execution_count": 0,
      "outputs": []
    },
    {
      "cell_type": "code",
      "metadata": {
        "id": "RIyYou3KRKUz",
        "colab_type": "code",
        "colab": {}
      },
      "source": [
        "# sigmoid/logistic function\n",
        "def sigmoid(x):\n",
        "    return 1/(1+np.exp(-x))"
      ],
      "execution_count": 0,
      "outputs": []
    },
    {
      "cell_type": "code",
      "metadata": {
        "id": "GgjdEkSRR3S4",
        "colab_type": "code",
        "colab": {}
      },
      "source": [
        "X = np.arange(-100,100,1)\n",
        "y = sigmoid(X)"
      ],
      "execution_count": 0,
      "outputs": []
    },
    {
      "cell_type": "code",
      "metadata": {
        "id": "3Jg1WGGZR-3Y",
        "colab_type": "code",
        "colab": {
          "base_uri": "https://localhost:8080/",
          "height": 265
        },
        "outputId": "d07430b4-810d-4ba6-be10-ac63a898be5e"
      },
      "source": [
        "plt.plot(y)\n",
        "plt.axhline(y=0.5,linestyle=\"--\", color='red')\n",
        "plt.show()"
      ],
      "execution_count": 4,
      "outputs": [
        {
          "output_type": "display_data",
          "data": {
            "image/png": "[encoded data removed]",
            "text/plain": [
              "<Figure size 432x288 with 1 Axes>"
            ]
          },
          "metadata": {
            "tags": []
          }
        }
      ]
    },
    {
      "cell_type": "code",
      "metadata": {
        "id": "x0AWUoj5XSeu",
        "colab_type": "code",
        "colab": {}
      },
      "source": [
        "#derivative of logistic function\n",
        "def logistic_derivative(x):\n",
        "  f = 1/(1+np.exp(-x))#logistic function itself\n",
        "  return f * (1 - f)"
      ],
      "execution_count": 0,
      "outputs": []
    },
    {
      "cell_type": "code",
      "metadata": {
        "id": "ylS1CGwlXxpW",
        "colab_type": "code",
        "colab": {}
      },
      "source": [
        "X = np.arange(-100,100,1)\n",
        "y_prime = logistic_derivative(X)"
      ],
      "execution_count": 0,
      "outputs": []
    },
    {
      "cell_type": "code",
      "metadata": {
        "id": "MDm0G_UeYlqS",
        "colab_type": "code",
        "colab": {
          "base_uri": "https://localhost:8080/",
          "height": 265
        },
        "outputId": "33d8550d-5276-46eb-9233-30b53140e4b8"
      },
      "source": [
        "plt.plot(y,label='logisctic_function')\n",
        "plt.plot(y_prime,linestyle=\"--\", color='red',label='derivation')\n",
        "plt.legend()\n",
        "plt.show()"
      ],
      "execution_count": 7,
      "outputs": [
        {
          "output_type": "display_data",
          "data": {
            "image/png": "[encoded data removed]",
            "text/plain": [
              "<Figure size 432x288 with 1 Axes>"
            ]
          },
          "metadata": {
            "tags": []
          }
        }
      ]
    },
    {
      "cell_type": "code",
      "metadata": {
        "id": "e5PhCbryZB5_",
        "colab_type": "code",
        "colab": {}
      },
      "source": [
        "import jax\n",
        "from jax import grad\n",
        "import jax.numpy as jaxnp"
      ],
      "execution_count": 0,
      "outputs": []
    },
    {
      "cell_type": "code",
      "metadata": {
        "id": "r6VwEzhtZM7p",
        "colab_type": "code",
        "colab": {}
      },
      "source": [
        "def sigmoid(x):\n",
        "    return 1/(1+jaxnp.exp(-x))"
      ],
      "execution_count": 0,
      "outputs": []
    },
    {
      "cell_type": "code",
      "metadata": {
        "id": "tqpPSWJBZUIP",
        "colab_type": "code",
        "colab": {}
      },
      "source": [
        "grad = grad(sigmoid)"
      ],
      "execution_count": 0,
      "outputs": []
    },
    {
      "cell_type": "code",
      "metadata": {
        "id": "fzCU_qRxdYMr",
        "colab_type": "code",
        "colab": {}
      },
      "source": [
        "Result=[]\n",
        "X=jaxnp.arange(-100,100,1)\n",
        "for i in X.astype(float):\n",
        "  y_prime_jax = grad(i)\n",
        "  Result.append(y_prime_jax)"
      ],
      "execution_count": 0,
      "outputs": []
    },
    {
      "cell_type": "code",
      "metadata": {
        "id": "tWpOS8TDejju",
        "colab_type": "code",
        "colab": {
          "base_uri": "https://localhost:8080/",
          "height": 265
        },
        "outputId": "12824181-5f48-4dbf-cef7-9f163a9553e4"
      },
      "source": [
        "plt.plot(Result,label='derivation_jax')\n",
        "plt.legend()\n",
        "plt.show()"
      ],
      "execution_count": 14,
      "outputs": [
        {
          "output_type": "display_data",
          "data": {
            "image/png": "[encoded data removed]",
            "text/plain": [
              "<Figure size 432x288 with 1 Axes>"
            ]
          },
          "metadata": {
            "tags": []
          }
        }
      ]
    }
  ]
}