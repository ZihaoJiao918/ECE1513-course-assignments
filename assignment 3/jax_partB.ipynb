{
 "cells": [
  {
   "cell_type": "code",
   "execution_count": 1,
   "metadata": {
    "colab": {},
    "colab_type": "code",
    "id": "bztoT4mw_Xfo"
   },
   "outputs": [
    {
     "ename": "ModuleNotFoundError",
     "evalue": "No module named 'jax'",
     "output_type": "error",
     "traceback": [
      "\u001b[1;31m---------------------------------------------------------------------------\u001b[0m",
      "\u001b[1;31mModuleNotFoundError\u001b[0m                       Traceback (most recent call last)",
      "\u001b[1;32m<ipython-input-1-6ac45768221c>\u001b[0m in \u001b[0;36m<module>\u001b[1;34m\u001b[0m\n\u001b[0;32m      5\u001b[0m \u001b[1;33m\u001b[0m\u001b[0m\n\u001b[0;32m      6\u001b[0m \u001b[1;33m\u001b[0m\u001b[0m\n\u001b[1;32m----> 7\u001b[1;33m \u001b[1;32mfrom\u001b[0m \u001b[0mjax\u001b[0m \u001b[1;32mimport\u001b[0m \u001b[0mgrad\u001b[0m\u001b[1;33m\u001b[0m\u001b[1;33m\u001b[0m\u001b[0m\n\u001b[0m\u001b[0;32m      8\u001b[0m \u001b[1;32mimport\u001b[0m \u001b[0mjax\u001b[0m\u001b[1;33m.\u001b[0m\u001b[0mnumpy\u001b[0m \u001b[1;32mas\u001b[0m \u001b[0mjaxnp\u001b[0m\u001b[1;33m\u001b[0m\u001b[1;33m\u001b[0m\u001b[0m\n\u001b[0;32m      9\u001b[0m \u001b[1;32mfrom\u001b[0m \u001b[0mjax\u001b[0m \u001b[1;32mimport\u001b[0m \u001b[0mrandom\u001b[0m\u001b[1;33m\u001b[0m\u001b[1;33m\u001b[0m\u001b[0m\n",
      "\u001b[1;31mModuleNotFoundError\u001b[0m: No module named 'jax'"
     ]
    }
   ],
   "source": [
    "import matplotlib.pyplot as plt\n",
    "import pandas as pd\n",
    "from sklearn.model_selection import train_test_split\n",
    "import numpy as np\n",
    "\n",
    "\n",
    "from jax import grad\n",
    "import jax.numpy as jaxnp\n",
    "from jax import random\n",
    "from IPython.display import display, clear_output"
   ]
  },
  {
   "cell_type": "code",
   "execution_count": null,
   "metadata": {
    "colab": {},
    "colab_type": "code",
    "id": "s5vrvMvv_lPS"
   },
   "outputs": [],
   "source": [
    "def generate_data(number_of_sample_entries):\n",
    "\n",
    " #initialize size\n",
    "  data = np.ndarray((number_of_sample_entries,3))\n",
    "  label = np.zeros((number_of_sample_entries,3))\n",
    "  \n",
    "  #class 1\n",
    "  class_1 = number_of_sample_entries//3\n",
    "  data[0:class_1, :] = np.random.uniform(low=1, high=5,size=(class_1,3))\n",
    "  label[0:class_1, :] = np.array([1,0,0])\n",
    "  #class 2\n",
    "  class_2 = class_1 + number_of_sample_entries//3\n",
    "  data[class_1:class_2, :] = np.random.uniform(low=10, high=15,size=(class_1,3))\n",
    "  label[class_1:class_2, :] = np.array([0,1,0])\n",
    "  #class 3\n",
    "  class_3 = class_2 + number_of_sample_entries//3\n",
    "  data[class_2:class_3, :] = np.random.uniform(low=20, high=25,size=(class_1,3))\n",
    "  label[class_2:class_3, :] = np.array([0,0,1])\n",
    "\n",
    "  #build it into datafram\n",
    "  x = pd.DataFrame(data)\n",
    "  labels = pd.DataFrame(label)\n",
    "  #split data and shuffle data\n",
    "  X_train, X_test, y_train, y_test = train_test_split(x, labels, test_size = 0.3, shuffle=True)\n",
    "\n",
    "  #return it to array(jax)\n",
    "\n",
    "  label_test_jax = jaxnp.array(y_test)\n",
    "  label_train_jax = jaxnp.array(y_train)\n",
    "  data_train_jax = jaxnp.array(X_train)\n",
    "  data_test_jax = jaxnp.array(X_test)\n",
    "\n",
    "\n",
    "\n",
    "  return label_test_jax,label_train_jax,data_train_jax,data_test_jax"
   ]
  },
  {
   "cell_type": "code",
   "execution_count": null,
   "metadata": {
    "colab": {},
    "colab_type": "code",
    "id": "qqp2X7WJ_-K0"
   },
   "outputs": [],
   "source": [
    "label_test,label_train,data_train,data_test = generate_data(300)"
   ]
  },
  {
   "cell_type": "code",
   "execution_count": null,
   "metadata": {
    "colab": {},
    "colab_type": "code",
    "id": "_mVHj36OAASZ"
   },
   "outputs": [],
   "source": [
    "def relu(X):\n",
    "   return jaxnp.maximum(X,0)\n",
    "\n",
    "\n",
    "\n",
    "def softmax(x):\n",
    "  list_res=[]\n",
    "  for i in range(len(x)):\n",
    "    res = jaxnp.exp(x[i])/jaxnp.sum(jaxnp.exp(x[i]))\n",
    "    list_res.append(res)\n",
    "  return jaxnp.array(list_res)\n",
    "\n",
    "# def softmax(x):\n",
    "#   return (jaxnp.exp(x)) / jaxnp.sum(jaxnp.exp(x))\n",
    "\n",
    "def sigmoid(x):\n",
    "  return 1/(1 + jaxnp.exp(-x))"
   ]
  },
  {
   "cell_type": "code",
   "execution_count": null,
   "metadata": {
    "colab": {},
    "colab_type": "code",
    "id": "uUmEH5T2AHFj"
   },
   "outputs": [],
   "source": [
    "# Initialize our neural network parameters.\n",
    "key = random.PRNGKey(0)\n",
    "key, W_key, b_key = random.split(key, 3)\n",
    "\n",
    "params = {}\n",
    "params['w_1'] = random.normal(W_key,(3,3))\n",
    "params['b_1'] = random.normal(b_key,(3,))\n",
    "params['w_2'] = random.normal(W_key,(3,3))\n",
    "params['b_2'] = random.normal(b_key,(3,))\n",
    "params['w_3'] = random.normal(W_key,(3,3))\n",
    "params['b_3'] = random.normal(b_key,(3,))"
   ]
  },
  {
   "cell_type": "code",
   "execution_count": null,
   "metadata": {
    "colab": {},
    "colab_type": "code",
    "id": "UyoP3mYDAI0E"
   },
   "outputs": [],
   "source": [
    "def loss_function (data, t, w_1, b_1, w_2, b_2, w_3, b_3):\n",
    "  J_in = jaxnp.dot(data, jaxnp.transpose(w_1))  + b_1\n",
    "  J_out = relu(J_in)\n",
    "  K_in = jaxnp.dot(J_out,jaxnp.transpose(w_2)) + b_2\n",
    "  K_out = sigmoid(K_in)\n",
    "  L_in = jaxnp.dot(K_out,jaxnp.transpose(w_3)) + b_3\n",
    "  L_out = softmax(L_in)\n",
    "\n",
    "  loss = (1./data.shape[0]) * jaxnp.sum(-t * jaxnp.log(L_out) - (1 - t) * jaxnp.log(1 - L_out))\n",
    "  return loss"
   ]
  },
  {
   "cell_type": "code",
   "execution_count": null,
   "metadata": {
    "colab": {},
    "colab_type": "code",
    "id": "eoSqNyVmD3uS"
   },
   "outputs": [],
   "source": [
    "dw_1 = grad(loss_function,2)\n",
    "db_1 = grad(loss_function,3)\n",
    "\n",
    "dw_2 = grad(loss_function,4)\n",
    "db_2 = grad(loss_function,5)\n",
    "\n",
    "dw_3 = grad(loss_function,6)\n",
    "db_3 = grad(loss_function,7)"
   ]
  },
  {
   "cell_type": "code",
   "execution_count": null,
   "metadata": {
    "colab": {
     "base_uri": "https://localhost:8080/",
     "height": 394
    },
    "colab_type": "code",
    "id": "szil_rvlCQag",
    "outputId": "7f56714f-ffa0-4d87-c653-aa3fe2de1f41"
   },
   "outputs": [],
   "source": [
    "alpha = 0.002\n",
    "iterations = 500\n",
    "cost_list = []\n",
    "for i in range(iterations):\n",
    "    loss = loss_function(data_train, label_train, params['w_1'],params['b_1'],params['w_2'],params['b_2'],params['w_3'],params['b_3'])\n",
    "\n",
    "    #weights update\n",
    "    params['w_1'] -= alpha * dw_1(data_train, label_train, params['w_1'],params['b_1'],params['w_2'],params['b_2'],params['w_3'],params['b_3'])\n",
    "    params['w_2'] -= alpha * dw_2(data_train, label_train, params['w_1'],params['b_1'],params['w_2'],params['b_2'],params['w_3'],params['b_3'])\n",
    "    params['w_3'] -= alpha * dw_3(data_train, label_train, params['w_1'],params['b_1'],params['w_2'],params['b_2'],params['w_3'],params['b_3'])\n",
    "    #bias update\n",
    "    params['b_1'] -= alpha * db_1(data_train, label_train, params['w_1'],params['b_1'],params['w_2'],params['b_2'],params['w_3'],params['b_3'])\n",
    "    params['b_2'] -= alpha * db_2(data_train, label_train, params['w_1'],params['b_1'],params['w_2'],params['b_2'],params['w_3'],params['b_3'])\n",
    "    params['b_3'] -= alpha * db_3(data_train, label_train, params['w_1'],params['b_1'],params['w_2'],params['b_2'],params['w_3'],params['b_3'])\n",
    "\n",
    "    clear_output(wait=True)\n",
    "    display('loss: ' + str(loss) + ' iterations: ' + str(i))\n",
    "    cost_list.append(loss)"
   ]
  },
  {
   "cell_type": "code",
   "execution_count": null,
   "metadata": {
    "colab": {},
    "colab_type": "code",
    "id": "E2-_qCjoVsLl"
   },
   "outputs": [],
   "source": [
    "plt.plot(cost_list)\n",
    "plt.show()"
   ]
  },
  {
   "cell_type": "code",
   "execution_count": null,
   "metadata": {
    "colab": {},
    "colab_type": "code",
    "id": "JYZVYF6sY7WI"
   },
   "outputs": [],
   "source": [
    "def forward (data, params):\n",
    "  J_in = jaxnp.dot(data, jaxnp.transpose(params['w_1']))  + params['b_1']\n",
    "  J_out = relu(J_in)\n",
    "  K_in = jaxnp.dot(J_out,jaxnp.transpose(params['w_2'])) + params['b_2']\n",
    "  K_out = sigmoid(K_in)\n",
    "  L_in = jaxnp.dot(K_out,jaxnp.transpose(params['w_3'])) + params['b_3']\n",
    "  L_out = softmax(L_in)\n",
    "  return L_out"
   ]
  },
  {
   "cell_type": "code",
   "execution_count": null,
   "metadata": {
    "colab": {},
    "colab_type": "code",
    "id": "4d_nruEpZLPj"
   },
   "outputs": [],
   "source": [
    "prediction = forward(data_test,params)\n",
    "pred_df = pd.DataFrame(prediction,columns=['[d   a','   t   ','  a]'])\n",
    "label_df = pd.DataFrame(label_test,columns=['[L  a','b  e','l  s]'])\n",
    "result = pd.concat([pred_df,label_df],axis=1)\n",
    "result.head(10)"
   ]
  }
 ],
 "metadata": {
  "accelerator": "GPU",
  "colab": {
   "name": "jax_partB.ipynb",
   "provenance": []
  },
  "kernelspec": {
   "display_name": "Python 3",
   "language": "python",
   "name": "python3"
  },
  "language_info": {
   "codemirror_mode": {
    "name": "ipython",
    "version": 3
   },
   "file_extension": ".py",
   "mimetype": "text/x-python",
   "name": "python",
   "nbconvert_exporter": "python",
   "pygments_lexer": "ipython3",
   "version": "3.7.3"
  }
 },
 "nbformat": 4,
 "nbformat_minor": 1
}
