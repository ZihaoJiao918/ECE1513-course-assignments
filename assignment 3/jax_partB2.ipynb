{
  "nbformat": 4,
  "nbformat_minor": 0,
  "metadata": {
    "colab": {
      "name": "jax_partB.ipynb",
      "provenance": []
    },
    "kernelspec": {
      "name": "python3",
      "display_name": "Python 3"
    },
    "accelerator": "GPU"
  },
  "cells": [
    {
      "cell_type": "code",
      "metadata": {
        "id": "bztoT4mw_Xfo",
        "colab_type": "code",
        "colab": {}
      },
      "source": [
        "import matplotlib.pyplot as plt\n",
        "import pandas as pd\n",
        "from sklearn.model_selection import train_test_split\n",
        "import numpy as np\n",
        "\n",
        "from jax import grad\n",
        "import jax.numpy as jaxnp\n",
        "from jax import random"
      ],
      "execution_count": 0,
      "outputs": []
    },
    {
      "cell_type": "code",
      "metadata": {
        "id": "s5vrvMvv_lPS",
        "colab_type": "code",
        "colab": {}
      },
      "source": [
        "def generate_data(number_of_sample_entries):\n",
        "\n",
        " #initialize size\n",
        "  data = np.ndarray((number_of_sample_entries,3))\n",
        "  label = np.zeros((number_of_sample_entries,3))\n",
        "  \n",
        "  #class 1\n",
        "  class_1 = number_of_sample_entries//3\n",
        "  data[0:class_1, :] = np.random.uniform(low=1, high=5,size=(class_1,3))\n",
        "  label[0:class_1, :] = np.array([1,0,0])\n",
        "  #class 2\n",
        "  class_2 = class_1 + number_of_sample_entries//3\n",
        "  data[class_1:class_2, :] = np.random.uniform(low=10, high=15,size=(class_1,3))\n",
        "  label[class_1:class_2, :] = np.array([0,1,0])\n",
        "  #class 3\n",
        "  class_3 = class_2 + number_of_sample_entries//3\n",
        "  data[class_2:class_3, :] = np.random.uniform(low=20, high=25,size=(class_1,3))\n",
        "  label[class_2:class_3, :] = np.array([0,0,1])\n",
        "\n",
        "  #build it into datafram\n",
        "  x = pd.DataFrame(data)\n",
        "  labels = pd.DataFrame(label)\n",
        "  #split data and shuffle data\n",
        "  X_train, X_test, y_train, y_test = train_test_split(x, labels, test_size = 0.3, shuffle=True)\n",
        "\n",
        "  #return it to array(jax)\n",
        "\n",
        "  label_test_jax = jaxnp.array(y_test)\n",
        "  label_train_jax = jaxnp.array(y_train)\n",
        "  data_train_jax = jaxnp.array(X_train)\n",
        "  data_test_jax = jaxnp.array(X_test)\n",
        "\n",
        "\n",
        "\n",
        "  return label_test_jax,label_train_jax,data_train_jax,data_test_jax"
      ],
      "execution_count": 0,
      "outputs": []
    },
    {
      "cell_type": "code",
      "metadata": {
        "id": "qqp2X7WJ_-K0",
        "colab_type": "code",
        "colab": {}
      },
      "source": [
        "label_test,label_train,data_train,data_test = generate_data(300)"
      ],
      "execution_count": 0,
      "outputs": []
    },
    {
      "cell_type": "code",
      "metadata": {
        "id": "_mVHj36OAASZ",
        "colab_type": "code",
        "colab": {}
      },
      "source": [
        "def relu(X):\n",
        "   return jaxnp.maximum(X,0)\n",
        "\n",
        "\n",
        "\n",
        "def relu_derivative(x):\n",
        "  return jaxnp.where(x>0, 1, 0)\n",
        "\n",
        "\n",
        "\n",
        "def softmax(x):\n",
        "  list_res=[]\n",
        "  for i in range(len(x)):\n",
        "    res = jaxnp.exp(x[i])/jaxnp.sum(jaxnp.exp(x[i]))\n",
        "    list_res.append(res)\n",
        "  return jaxnp.array(list_res)\n",
        "\n",
        "# def softmax(x):\n",
        "#   return (jaxnp.exp(x)) / jaxnp.sum(jaxnp.exp(x))\n",
        "\n",
        "def sigmoid(x):\n",
        "  return 1/(1 + jaxnp.exp(-x))"
      ],
      "execution_count": 0,
      "outputs": []
    },
    {
      "cell_type": "code",
      "metadata": {
        "id": "uUmEH5T2AHFj",
        "colab_type": "code",
        "colab": {}
      },
      "source": [
        "# Initialize our neural network parameters.\n",
        "key = random.PRNGKey(0)\n",
        "key, W_key, b_key = random.split(key, 3)\n",
        "\n",
        "params = {}\n",
        "params['w_1'] = random.normal(W_key,(3,3))\n",
        "params['b_1'] = random.normal(b_key,(3,))\n",
        "params['w_2'] = random.normal(W_key,(3,3))\n",
        "params['b_2'] = random.normal(b_key,(3,))\n",
        "params['w_3'] = random.normal(W_key,(3,3))\n",
        "params['b_3'] = random.normal(b_key,(3,))"
      ],
      "execution_count": 0,
      "outputs": []
    },
    {
      "cell_type": "code",
      "metadata": {
        "id": "UyoP3mYDAI0E",
        "colab_type": "code",
        "colab": {}
      },
      "source": [
        "def loss_function (data, t, w_1, b_1, w_2, b_2, w_3, b_3):\n",
        "  J_in = jaxnp.dot(data, jaxnp.transpose(w_1))  + b_1\n",
        "  J_out = relu(J_in)\n",
        "  K_in = jaxnp.dot(J_out,jaxnp.transpose(w_2)) + b_2\n",
        "  K_out = sigmoid(K_in)\n",
        "  L_in = jaxnp.dot(K_out,jaxnp.transpose(w_3)) + b_3\n",
        "  L_out = softmax(L_in)\n",
        "\n",
        "  loss = (1./data.shape[0]) * jaxnp.sum(-t * jaxnp.log(L_out) - (1 - t) * jaxnp.log(1 - L_out))\n",
        "  return loss"
      ],
      "execution_count": 0,
      "outputs": []
    },
    {
      "cell_type": "code",
      "metadata": {
        "id": "eoSqNyVmD3uS",
        "colab_type": "code",
        "colab": {}
      },
      "source": [
        "dw_1 = grad(loss_function,2)\n",
        "db_1 = grad(loss_function,3)\n",
        "\n",
        "dw_2 = grad(loss_function,4)\n",
        "db_2 = grad(loss_function,5)\n",
        "\n",
        "dw_3 = grad(loss_function,6)\n",
        "db_3 = grad(loss_function,7)"
      ],
      "execution_count": 0,
      "outputs": []
    },
    {
      "cell_type": "code",
      "metadata": {
        "id": "szil_rvlCQag",
        "colab_type": "code",
        "colab": {}
      },
      "source": [
        "alpha = 0.002\n",
        "iterations = 5000\n",
        "cost_list = []\n",
        "for i in range(iterations):\n",
        "    loss = loss_function(data_train, label_train, params['w_1'],params['b_1'],params['w_2'],params['b_2'],params['w_3'],params['b_3'])\n",
        "    \n",
        "    #weights update\n",
        "    params['w_1'] -= alpha * dw_1(data_train, label_train, params['w_1'],params['b_1'],params['w_2'],params['b_2'],params['w_3'],params['b_3'])\n",
        "    params['w_2'] -= alpha * dw_2(data_train, label_train, params['w_1'],params['b_1'],params['w_2'],params['b_2'],params['w_3'],params['b_3'])\n",
        "    params['w_3'] -= alpha * dw_3(data_train, label_train, params['w_1'],params['b_1'],params['w_2'],params['b_2'],params['w_3'],params['b_3'])\n",
        "    #bias update\n",
        "    params['b_1'] -= alpha * db_1(data_train, label_train, params['w_1'],params['b_1'],params['w_2'],params['b_2'],params['w_3'],params['b_3'])\n",
        "    params['b_2'] -= alpha * db_2(data_train, label_train, params['w_1'],params['b_1'],params['w_2'],params['b_2'],params['w_3'],params['b_3'])\n",
        "    params['b_3'] -= alpha * db_3(data_train, label_train, params['w_1'],params['b_1'],params['w_2'],params['b_2'],params['w_3'],params['b_3'])\n",
        "\n",
        "\n",
        "    cost_list.append(loss)"
      ],
      "execution_count": 0,
      "outputs": []
    },
    {
      "cell_type": "code",
      "metadata": {
        "id": "E2-_qCjoVsLl",
        "colab_type": "code",
        "colab": {
          "base_uri": "https://localhost:8080/",
          "height": 265
        },
        "outputId": "534cc0fb-ee17-450a-9579-20907573f10d"
      },
      "source": [
        "plt.plot(cost_list)\n",
        "plt.show()"
      ],
      "execution_count": 18,
      "outputs": [
        {
          "output_type": "display_data",
          "data": {
            "image/png": "[encoded data removed]",
            "text/plain": [
              "<Figure size 432x288 with 1 Axes>"
            ]
          },
          "metadata": {
            "tags": []
          }
        }
      ]
    },
    {
      "cell_type": "code",
      "metadata": {
        "id": "JYZVYF6sY7WI",
        "colab_type": "code",
        "colab": {}
      },
      "source": [
        "def forward (data, params):\n",
        "  J_in = jaxnp.dot(data, jaxnp.transpose(params['w_1']))  + params['b_1']\n",
        "  J_out = relu(J_in)\n",
        "  K_in = jaxnp.dot(J_out,jaxnp.transpose(params['w_2'])) + params['b_2']\n",
        "  K_out = sigmoid(K_in)\n",
        "  L_in = jaxnp.dot(K_out,jaxnp.transpose(params['w_3'])) + params['b_3']\n",
        "  L_out = softmax(L_in)\n",
        "  return L_out"
      ],
      "execution_count": 0,
      "outputs": []
    },
    {
      "cell_type": "code",
      "metadata": {
        "id": "4d_nruEpZLPj",
        "colab_type": "code",
        "colab": {
          "base_uri": "https://localhost:8080/",
          "height": 359
        },
        "outputId": "a8bd1df1-4658-4b3f-87ce-bc47d5f2636e"
      },
      "source": [
        "prediction = forward(data_test,params)\n",
        "pred_df = pd.DataFrame(prediction,columns=['[d   a','   t   ','  a]'])\n",
        "label_df = pd.DataFrame(label_test,columns=['[L  a','b  e','l  s]'])\n",
        "result = pd.concat([pred_df,label_df],axis=1)\n",
        "result.head(10)"
      ],
      "execution_count": 17,
      "outputs": [
        {
          "output_type": "execute_result",
          "data": {
            "text/html": [
              "<div>\n",
              "<style scoped>\n",
              "    .dataframe tbody tr th:only-of-type {\n",
              "        vertical-align: middle;\n",
              "    }\n",
              "\n",
              "    .dataframe tbody tr th {\n",
              "        vertical-align: top;\n",
              "    }\n",
              "\n",
              "    .dataframe thead th {\n",
              "        text-align: right;\n",
              "    }\n",
              "</style>\n",
              "<table border=\"1\" class=\"dataframe\">\n",
              "  <thead>\n",
              "    <tr style=\"text-align: right;\">\n",
              "      <th></th>\n",
              "      <th>[d   a</th>\n",
              "      <th>t</th>\n",
              "      <th>a]</th>\n",
              "      <th>[L  a</th>\n",
              "      <th>b  e</th>\n",
              "      <th>l  s]</th>\n",
              "    </tr>\n",
              "  </thead>\n",
              "  <tbody>\n",
              "    <tr>\n",
              "      <th>0</th>\n",
              "      <td>0.433730</td>\n",
              "      <td>0.207069</td>\n",
              "      <td>0.359200</td>\n",
              "      <td>0.0</td>\n",
              "      <td>0.0</td>\n",
              "      <td>1.0</td>\n",
              "    </tr>\n",
              "    <tr>\n",
              "      <th>1</th>\n",
              "      <td>0.433730</td>\n",
              "      <td>0.207069</td>\n",
              "      <td>0.359200</td>\n",
              "      <td>0.0</td>\n",
              "      <td>0.0</td>\n",
              "      <td>1.0</td>\n",
              "    </tr>\n",
              "    <tr>\n",
              "      <th>2</th>\n",
              "      <td>0.433730</td>\n",
              "      <td>0.207069</td>\n",
              "      <td>0.359200</td>\n",
              "      <td>0.0</td>\n",
              "      <td>1.0</td>\n",
              "      <td>0.0</td>\n",
              "    </tr>\n",
              "    <tr>\n",
              "      <th>3</th>\n",
              "      <td>0.422104</td>\n",
              "      <td>0.275083</td>\n",
              "      <td>0.302813</td>\n",
              "      <td>0.0</td>\n",
              "      <td>1.0</td>\n",
              "      <td>0.0</td>\n",
              "    </tr>\n",
              "    <tr>\n",
              "      <th>4</th>\n",
              "      <td>0.426585</td>\n",
              "      <td>0.244961</td>\n",
              "      <td>0.328454</td>\n",
              "      <td>0.0</td>\n",
              "      <td>0.0</td>\n",
              "      <td>1.0</td>\n",
              "    </tr>\n",
              "    <tr>\n",
              "      <th>5</th>\n",
              "      <td>0.433730</td>\n",
              "      <td>0.207069</td>\n",
              "      <td>0.359200</td>\n",
              "      <td>0.0</td>\n",
              "      <td>0.0</td>\n",
              "      <td>1.0</td>\n",
              "    </tr>\n",
              "    <tr>\n",
              "      <th>6</th>\n",
              "      <td>0.428353</td>\n",
              "      <td>0.235910</td>\n",
              "      <td>0.335737</td>\n",
              "      <td>0.0</td>\n",
              "      <td>1.0</td>\n",
              "      <td>0.0</td>\n",
              "    </tr>\n",
              "    <tr>\n",
              "      <th>7</th>\n",
              "      <td>0.433730</td>\n",
              "      <td>0.207069</td>\n",
              "      <td>0.359200</td>\n",
              "      <td>0.0</td>\n",
              "      <td>1.0</td>\n",
              "      <td>0.0</td>\n",
              "    </tr>\n",
              "    <tr>\n",
              "      <th>8</th>\n",
              "      <td>0.433730</td>\n",
              "      <td>0.207069</td>\n",
              "      <td>0.359200</td>\n",
              "      <td>0.0</td>\n",
              "      <td>0.0</td>\n",
              "      <td>1.0</td>\n",
              "    </tr>\n",
              "    <tr>\n",
              "      <th>9</th>\n",
              "      <td>0.428978</td>\n",
              "      <td>0.232726</td>\n",
              "      <td>0.338297</td>\n",
              "      <td>0.0</td>\n",
              "      <td>1.0</td>\n",
              "      <td>0.0</td>\n",
              "    </tr>\n",
              "  </tbody>\n",
              "</table>\n",
              "</div>"
            ],
            "text/plain": [
              "     [d   a      t           a]  [L  a  b  e  l  s]\n",
              "0  0.433730  0.207069  0.359200    0.0   0.0    1.0\n",
              "1  0.433730  0.207069  0.359200    0.0   0.0    1.0\n",
              "2  0.433730  0.207069  0.359200    0.0   1.0    0.0\n",
              "3  0.422104  0.275083  0.302813    0.0   1.0    0.0\n",
              "4  0.426585  0.244961  0.328454    0.0   0.0    1.0\n",
              "5  0.433730  0.207069  0.359200    0.0   0.0    1.0\n",
              "6  0.428353  0.235910  0.335737    0.0   1.0    0.0\n",
              "7  0.433730  0.207069  0.359200    0.0   1.0    0.0\n",
              "8  0.433730  0.207069  0.359200    0.0   0.0    1.0\n",
              "9  0.428978  0.232726  0.338297    0.0   1.0    0.0"
            ]
          },
          "metadata": {
            "tags": []
          },
          "execution_count": 17
        }
      ]
    }
  ]
}