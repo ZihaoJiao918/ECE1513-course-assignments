{
  "nbformat": 4,
  "nbformat_minor": 0,
  "metadata": {
    "colab": {
      "name": "Untitled6.ipynb",
      "provenance": []
    },
    "kernelspec": {
      "name": "python3",
      "display_name": "Python 3"
    }
  },
  "cells": [
    {
      "cell_type": "code",
      "metadata": {
        "id": "gQUza4rj7cLi",
        "colab_type": "code",
        "colab": {}
      },
      "source": [
        "from jax import grad\n",
        "import jax.numpy as jaxnp\n",
        "import matplotlib.pyplot as plt\n"
      ],
      "execution_count": 0,
      "outputs": []
    },
    {
      "cell_type": "code",
      "metadata": {
        "id": "cPmOk_av6zeF",
        "colab_type": "code",
        "colab": {}
      },
      "source": [
        "def relu(X):\n",
        "  return jaxnp.maximum(0,X)"
      ],
      "execution_count": 0,
      "outputs": []
    },
    {
      "cell_type": "code",
      "metadata": {
        "id": "b0P-aYxr7tG6",
        "colab_type": "code",
        "colab": {}
      },
      "source": [
        "data = jaxnp.arange(-100,100,1)"
      ],
      "execution_count": 0,
      "outputs": []
    },
    {
      "cell_type": "code",
      "metadata": {
        "id": "r6LOBeZJ71Q3",
        "colab_type": "code",
        "colab": {}
      },
      "source": [
        "der_relu = grad(relu)"
      ],
      "execution_count": 0,
      "outputs": []
    },
    {
      "cell_type": "code",
      "metadata": {
        "id": "fooIdHL88dwP",
        "colab_type": "code",
        "colab": {}
      },
      "source": [
        "result=[]\n",
        "for i in data.astype(float):\n",
        "  derivative = der_relu(i)\n",
        "  result.append(derivative)"
      ],
      "execution_count": 0,
      "outputs": []
    },
    {
      "cell_type": "code",
      "metadata": {
        "id": "gfRIh1xj87as",
        "colab_type": "code",
        "colab": {
          "base_uri": "https://localhost:8080/",
          "height": 281
        },
        "outputId": "6cccb50a-9f6a-4571-c579-3e998bbe332c"
      },
      "source": [
        "plt.plot(result)\n",
        "plt.title('jax_relu')\n",
        "plt.show()"
      ],
      "execution_count": 9,
      "outputs": [
        {
          "output_type": "display_data",
          "data": {
            "image/png": "[encoded data removed]",
            "text/plain": [
              "<Figure size 432x288 with 1 Axes>"
            ]
          },
          "metadata": {
            "tags": []
          }
        }
      ]
    },
    {
      "cell_type": "code",
      "metadata": {
        "id": "d2wHOJK99pL-",
        "colab_type": "code",
        "colab": {}
      },
      "source": [
        "def softmax(a,array):\n",
        "  return jaxnp.exp(a) / jaxnp.sum(jaxnp.exp(array))"
      ],
      "execution_count": 0,
      "outputs": []
    },
    {
      "cell_type": "code",
      "metadata": {
        "id": "Fa-FrqKn9t09",
        "colab_type": "code",
        "colab": {}
      },
      "source": [
        "der_softmax = grad(softmax)"
      ],
      "execution_count": 0,
      "outputs": []
    },
    {
      "cell_type": "code",
      "metadata": {
        "id": "oC25PIjC90ZD",
        "colab_type": "code",
        "colab": {
          "base_uri": "https://localhost:8080/",
          "height": 51
        },
        "outputId": "d44dadb3-4d1c-4b1d-901a-564c999ccabc"
      },
      "source": [
        "data = jaxnp.array([1.0, 2.0, 3.0, 4.0, 5.0, 1.0, 2.0, 5.0])"
      ],
      "execution_count": 4,
      "outputs": [
        {
          "output_type": "stream",
          "text": [
            "/usr/local/lib/python3.6/dist-packages/jax/lib/xla_bridge.py:119: UserWarning: No GPU/TPU found, falling back to CPU.\n",
            "  warnings.warn('No GPU/TPU found, falling back to CPU.')\n"
          ],
          "name": "stderr"
        }
      ]
    },
    {
      "cell_type": "code",
      "metadata": {
        "id": "Wgmb6XQR9_li",
        "colab_type": "code",
        "colab": {}
      },
      "source": [
        "result=[]\n",
        "for i in data:\n",
        "  derivative = der_softmax(i,data)\n",
        "  result.append(derivative)"
      ],
      "execution_count": 0,
      "outputs": []
    },
    {
      "cell_type": "code",
      "metadata": {
        "id": "NaZUP6Wg-bGn",
        "colab_type": "code",
        "colab": {
          "base_uri": "https://localhost:8080/",
          "height": 153
        },
        "outputId": "584f95da-ae30-4762-dfa4-9a21a7cfc4f6"
      },
      "source": [
        "result"
      ],
      "execution_count": 6,
      "outputs": [
        {
          "output_type": "execute_result",
          "data": {
            "text/plain": [
              "[DeviceArray(0.00693927, dtype=float32),\n",
              " DeviceArray(0.01886288, dtype=float32),\n",
              " DeviceArray(0.05127463, dtype=float32),\n",
              " DeviceArray(0.13937889, dtype=float32),\n",
              " DeviceArray(0.3788711, dtype=float32),\n",
              " DeviceArray(0.00693927, dtype=float32),\n",
              " DeviceArray(0.01886288, dtype=float32),\n",
              " DeviceArray(0.3788711, dtype=float32)]"
            ]
          },
          "metadata": {
            "tags": []
          },
          "execution_count": 6
        }
      ]
    },
    {
      "cell_type": "code",
      "metadata": {
        "id": "xixxBe8u-BTf",
        "colab_type": "code",
        "colab": {
          "base_uri": "https://localhost:8080/",
          "height": 295
        },
        "outputId": "78f2334e-cf2d-4f08-fc00-3db1d7619e1c"
      },
      "source": [
        "plt.bar(data,result, align='center', alpha=0.5)\n",
        "plt.xlabel('classes')\n",
        "plt.ylabel('probabilities')\n",
        "plt.title('softmax jax grad result')\n",
        "plt.show()"
      ],
      "execution_count": 7,
      "outputs": [
        {
          "output_type": "display_data",
          "data": {
            "image/png": "[encoded data removed]",
            "text/plain": [
              "<Figure size 432x288 with 1 Axes>"
            ]
          },
          "metadata": {
            "tags": []
          }
        }
      ]
    }
  ]
}