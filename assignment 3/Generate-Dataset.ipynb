{
 "cells": [
  {
   "cell_type": "code",
   "execution_count": 1,
   "metadata": {},
   "outputs": [],
   "source": [
    "import matplotlib\n",
    "import numpy as np\n",
    "import math\n",
    "%matplotlib inline"
   ]
  },
  {
   "cell_type": "code",
   "execution_count": 2,
   "metadata": {},
   "outputs": [],
   "source": [
    "input_size = 3\n",
    "output_size = 3\n",
    "sample_count = 81"
   ]
  },
  {
   "cell_type": "code",
   "execution_count": 3,
   "metadata": {},
   "outputs": [],
   "source": [
    "def generate_data(count):\n",
    "    \n",
    "    data=[]\n",
    "    label=[]\n",
    "    \n",
    "    # create data for class 1\n",
    "    for i in range(count//3):\n",
    "        i1 = np.random.uniform(low=0, high=5)\n",
    "        i2 = np.random.uniform(low=0, high=5)\n",
    "        i3 = np.random.uniform(low=0, high=5)\n",
    "        data.append([i1,i2,i3])\n",
    "        target = [1,0,0]\n",
    "        label.append(target)\n",
    "    \n",
    "    # create data for class 2\n",
    "    for i in range(count//3):\n",
    "        i1 = np.random.uniform(low=6, high=11)\n",
    "        i2 = np.random.uniform(low=6, high=11)\n",
    "        i3 = np.random.uniform(low=6, high=11)\n",
    "        data.append([i1,i2,i3])\n",
    "        target = [0,1,0]\n",
    "        label.append(target)\n",
    "    \n",
    "    # create data for class 3\n",
    "    for i in range(count//3):\n",
    "        i1 = np.random.uniform(low=12, high=17)\n",
    "        i2 = np.random.uniform(low=12, high=17)\n",
    "        i3 = np.random.uniform(low=12, high=17)\n",
    "        data.append([i1,i2,i3])\n",
    "        target = [0,0,1]\n",
    "        label.append(target)\n",
    "    \n",
    "    data = np.asarray(data)\n",
    "    labels = np.asarray(label)\n",
    "    \n",
    "    return data, labels"
   ]
  },
  {
   "cell_type": "code",
   "execution_count": 4,
   "metadata": {},
   "outputs": [],
   "source": [
    "data, labels = generate_data(sample_count)"
   ]
  },
  {
   "cell_type": "code",
   "execution_count": 5,
   "metadata": {},
   "outputs": [
    {
     "data": {
      "text/plain": [
       "(81, 3)"
      ]
     },
     "execution_count": 5,
     "metadata": {},
     "output_type": "execute_result"
    }
   ],
   "source": [
    "data.shape"
   ]
  },
  {
   "cell_type": "code",
   "execution_count": 6,
   "metadata": {},
   "outputs": [
    {
     "data": {
      "text/plain": [
       "(81, 3)"
      ]
     },
     "execution_count": 6,
     "metadata": {},
     "output_type": "execute_result"
    }
   ],
   "source": [
    "labels.shape"
   ]
  }
 ],
 "metadata": {
  "kernelspec": {
   "display_name": "Python 3",
   "language": "python",
   "name": "python3"
  },
  "language_info": {
   "codemirror_mode": {
    "name": "ipython",
    "version": 3
   },
   "file_extension": ".py",
   "mimetype": "text/x-python",
   "name": "python",
   "nbconvert_exporter": "python",
   "pygments_lexer": "ipython3",
   "version": "3.5.2"
  }
 },
 "nbformat": 4,
 "nbformat_minor": 4
}
