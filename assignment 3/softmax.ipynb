{
  "nbformat": 4,
  "nbformat_minor": 0,
  "metadata": {
    "colab": {
      "name": "softmax.ipynb",
      "provenance": []
    },
    "kernelspec": {
      "name": "python3",
      "display_name": "Python 3"
    }
  },
  "cells": [
    {
      "cell_type": "code",
      "metadata": {
        "id": "gQUza4rj7cLi",
        "colab_type": "code",
        "colab": {}
      },
      "source": [
        "from jax import grad\n",
        "import jax.numpy as jaxnp\n",
        "import matplotlib.pyplot as plt\n",
        "import numpy as np"
      ],
      "execution_count": 0,
      "outputs": []
    },
    {
      "cell_type": "code",
      "metadata": {
        "id": "f3RR_J5iJxtb",
        "colab_type": "code",
        "colab": {}
      },
      "source": [
        "data = np.array([1, 2, 3, 4, 5, 1, 2, 5])"
      ],
      "execution_count": 0,
      "outputs": []
    },
    {
      "cell_type": "code",
      "metadata": {
        "id": "VFqEKE43UNkL",
        "colab_type": "code",
        "colab": {
          "base_uri": "https://localhost:8080/",
          "height": 34
        },
        "outputId": "5417923c-d2b0-42d3-d762-3a7c6f573cbf"
      },
      "source": [
        "np.arange(4)"
      ],
      "execution_count": 3,
      "outputs": [
        {
          "output_type": "execute_result",
          "data": {
            "text/plain": [
              "array([0, 1, 2, 3])"
            ]
          },
          "metadata": {
            "tags": []
          },
          "execution_count": 3
        }
      ]
    },
    {
      "cell_type": "code",
      "metadata": {
        "id": "jTGCyYfBJD0g",
        "colab_type": "code",
        "colab": {}
      },
      "source": [
        "def softmax(x):\n",
        "  return (np.exp(x)) / np.sum(np.exp(x))"
      ],
      "execution_count": 0,
      "outputs": []
    },
    {
      "cell_type": "code",
      "metadata": {
        "id": "5WUPNS7nJ1BS",
        "colab_type": "code",
        "colab": {
          "base_uri": "https://localhost:8080/",
          "height": 51
        },
        "outputId": "d4a8a2f2-257b-41d7-c423-881aec0c3dd1"
      },
      "source": [
        "res = softmax(data)\n",
        "res"
      ],
      "execution_count": 5,
      "outputs": [
        {
          "output_type": "execute_result",
          "data": {
            "text/plain": [
              "array([0.00693927, 0.01886288, 0.05127463, 0.13937889, 0.3788711 ,\n",
              "       0.00693927, 0.01886288, 0.3788711 ])"
            ]
          },
          "metadata": {
            "tags": []
          },
          "execution_count": 5
        }
      ]
    },
    {
      "cell_type": "code",
      "metadata": {
        "id": "VDnPMRf6KUs0",
        "colab_type": "code",
        "colab": {
          "base_uri": "https://localhost:8080/",
          "height": 281
        },
        "outputId": "0222225a-59b4-46d0-d9c9-ba1ded89d4d4"
      },
      "source": [
        "plt.bar(data,res,align='center',alpha=0.5)\n",
        "plt.xticks(data,('classes 1','classes 2','classes 3', 'classes 4', 'classes 5'))\n",
        "plt.ylabel('probabilities')\n",
        "plt.title('softmax graph')\n",
        "plt.show()"
      ],
      "execution_count": 6,
      "outputs": [
        {
          "output_type": "display_data",
          "data": {
            "image/png": "[encoded data removed]",
            "text/plain": [
              "<Figure size 432x288 with 1 Axes>"
            ]
          },
          "metadata": {
            "tags": []
          }
        }
      ]
    },
    {
      "cell_type": "code",
      "metadata": {
        "id": "aIUgBYB5JUaJ",
        "colab_type": "code",
        "colab": {}
      },
      "source": [
        "def softmax_derivative(x):\n",
        "    softmax = (np.exp(x)) / np.sum(np.exp(x))\n",
        "    result = softmax.reshape(-1,1)\n",
        "    return np.diagflat(result) - np.dot(result, result.T)"
      ],
      "execution_count": 0,
      "outputs": []
    },
    {
      "cell_type": "code",
      "metadata": {
        "id": "xWG_U6d-LJ7K",
        "colab_type": "code",
        "colab": {}
      },
      "source": [
        "der_softmax = softmax_derivative(data)"
      ],
      "execution_count": 0,
      "outputs": []
    },
    {
      "cell_type": "code",
      "metadata": {
        "id": "R9Mlj_R2LdW7",
        "colab_type": "code",
        "colab": {
          "base_uri": "https://localhost:8080/",
          "height": 289
        },
        "outputId": "00b06d1f-4822-4b15-feef-b620fc174c95"
      },
      "source": [
        "print(der_softmax)"
      ],
      "execution_count": 9,
      "outputs": [
        {
          "output_type": "stream",
          "text": [
            "[[ 6.89111276e-03 -1.30894553e-04 -3.55808285e-04 -9.67187196e-04\n",
            "  -2.62908738e-03 -4.81534150e-05 -1.30894553e-04 -2.62908738e-03]\n",
            " [-1.30894553e-04  1.85070729e-02 -9.67187196e-04 -2.62908738e-03\n",
            "  -7.14660045e-03 -1.30894553e-04 -3.55808285e-04 -7.14660045e-03]\n",
            " [-3.55808285e-04 -9.67187196e-04  4.86455397e-02 -7.14660045e-03\n",
            "  -1.94264741e-02 -3.55808285e-04 -9.67187196e-04 -1.94264741e-02]\n",
            " [-9.67187196e-04 -2.62908738e-03 -7.14660045e-03  1.19952413e-01\n",
            "  -5.28066316e-02 -9.67187196e-04 -2.62908738e-03 -5.28066316e-02]\n",
            " [-2.62908738e-03 -7.14660045e-03 -1.94264741e-02 -5.28066316e-02\n",
            "   2.35327789e-01 -2.62908738e-03 -7.14660045e-03 -1.43543307e-01]\n",
            " [-4.81534150e-05 -1.30894553e-04 -3.55808285e-04 -9.67187196e-04\n",
            "  -2.62908738e-03  6.89111276e-03 -1.30894553e-04 -2.62908738e-03]\n",
            " [-1.30894553e-04 -3.55808285e-04 -9.67187196e-04 -2.62908738e-03\n",
            "  -7.14660045e-03 -1.30894553e-04  1.85070729e-02 -7.14660045e-03]\n",
            " [-2.62908738e-03 -7.14660045e-03 -1.94264741e-02 -5.28066316e-02\n",
            "  -1.43543307e-01 -2.62908738e-03 -7.14660045e-03  2.35327789e-01]]\n"
          ],
          "name": "stdout"
        }
      ]
    },
    {
      "cell_type": "code",
      "metadata": {
        "id": "2JYAQ3rbM1gk",
        "colab_type": "code",
        "colab": {
          "base_uri": "https://localhost:8080/",
          "height": 51
        },
        "outputId": "62a86c47-62b4-4942-fd76-59ae1008e96b"
      },
      "source": [
        "derivative = np.diagonal(der_softmax)\n",
        "derivative"
      ],
      "execution_count": 10,
      "outputs": [
        {
          "output_type": "execute_result",
          "data": {
            "text/plain": [
              "array([0.00689111, 0.01850707, 0.04864554, 0.11995241, 0.23532779,\n",
              "       0.00689111, 0.01850707, 0.23532779])"
            ]
          },
          "metadata": {
            "tags": []
          },
          "execution_count": 10
        }
      ]
    },
    {
      "cell_type": "code",
      "metadata": {
        "id": "m3aZVBthSESH",
        "colab_type": "code",
        "colab": {
          "base_uri": "https://localhost:8080/",
          "height": 281
        },
        "outputId": "51e30bb7-27c6-4c56-c86c-24bd1c3fa4b0"
      },
      "source": [
        "plt.bar(data,derivative,align='center',alpha=0.5)\n",
        "plt.xticks(data,('classes 1','classes 2','classes 3', 'classes 4', 'classes 5'))\n",
        "plt.ylabel('probabilities')\n",
        "plt.title('softmax derivative graph')\n",
        "plt.show()"
      ],
      "execution_count": 11,
      "outputs": [
        {
          "output_type": "display_data",
          "data": {
            "image/png": "[encoded data removed]",
            "text/plain": [
              "<Figure size 432x288 with 1 Axes>"
            ]
          },
          "metadata": {
            "tags": []
          }
        }
      ]
    },
    {
      "cell_type": "code",
      "metadata": {
        "id": "d2wHOJK99pL-",
        "colab_type": "code",
        "colab": {}
      },
      "source": [
        "def softmax_jax(element,array):\n",
        "  return jaxnp.exp(array[element]) / jaxnp.sum(jaxnp.exp(array))"
      ],
      "execution_count": 0,
      "outputs": []
    },
    {
      "cell_type": "code",
      "metadata": {
        "id": "mlYC-mugNEQS",
        "colab_type": "code",
        "colab": {
          "base_uri": "https://localhost:8080/",
          "height": 51
        },
        "outputId": "94882543-e3b5-4be4-ef5a-bd8a7aa42450"
      },
      "source": [
        "data_jax = jaxnp.array([1.0, 2.0, 3.0, 4.0, 5.0, 1.0, 2.0, 5.0])"
      ],
      "execution_count": 13,
      "outputs": [
        {
          "output_type": "stream",
          "text": [
            "/usr/local/lib/python3.6/dist-packages/jax/lib/xla_bridge.py:119: UserWarning: No GPU/TPU found, falling back to CPU.\n",
            "  warnings.warn('No GPU/TPU found, falling back to CPU.')\n"
          ],
          "name": "stderr"
        }
      ]
    },
    {
      "cell_type": "code",
      "metadata": {
        "id": "Fa-FrqKn9t09",
        "colab_type": "code",
        "colab": {}
      },
      "source": [
        "der_softmax_jax = grad(softmax_jax,1)"
      ],
      "execution_count": 0,
      "outputs": []
    },
    {
      "cell_type": "code",
      "metadata": {
        "id": "Wgmb6XQR9_li",
        "colab_type": "code",
        "colab": {}
      },
      "source": [
        "result_jax=[]\n",
        "for i in range(len(data_jax)):\n",
        "  derivative = der_softmax_jax(i,data_jax)\n",
        "  result_jax.append(derivative)"
      ],
      "execution_count": 0,
      "outputs": []
    },
    {
      "cell_type": "code",
      "metadata": {
        "id": "NaZUP6Wg-bGn",
        "colab_type": "code",
        "outputId": "7c6feb8b-686f-47bf-e003-b9a0a793daf2",
        "colab": {
          "base_uri": "https://localhost:8080/",
          "height": 323
        }
      },
      "source": [
        "result_jax"
      ],
      "execution_count": 16,
      "outputs": [
        {
          "output_type": "execute_result",
          "data": {
            "text/plain": [
              "[DeviceArray([ 6.8911123e-03, -1.3089456e-04, -3.5580830e-04,\n",
              "              -9.6718728e-04, -2.6290875e-03, -4.8153415e-05,\n",
              "              -1.3089456e-04, -2.6290875e-03], dtype=float32),\n",
              " DeviceArray([-0.00013089,  0.01850707, -0.00096719, -0.00262909,\n",
              "              -0.0071466 , -0.00013089, -0.00035581, -0.0071466 ],            dtype=float32),\n",
              " DeviceArray([-0.00035581, -0.00096719,  0.04864554, -0.0071466 ,\n",
              "              -0.01942648, -0.00035581, -0.00096719, -0.01942648],            dtype=float32),\n",
              " DeviceArray([-0.00096719, -0.00262909, -0.0071466 ,  0.11995241,\n",
              "              -0.05280664, -0.00096719, -0.00262909, -0.05280664],            dtype=float32),\n",
              " DeviceArray([-0.00262909, -0.0071466 , -0.01942648, -0.05280664,\n",
              "               0.2353278 , -0.00262909, -0.0071466 , -0.14354332],            dtype=float32),\n",
              " DeviceArray([-4.8153415e-05, -1.3089456e-04, -3.5580830e-04,\n",
              "              -9.6718728e-04, -2.6290875e-03,  6.8911123e-03,\n",
              "              -1.3089456e-04, -2.6290875e-03], dtype=float32),\n",
              " DeviceArray([-0.00013089, -0.00035581, -0.00096719, -0.00262909,\n",
              "              -0.0071466 , -0.00013089,  0.01850707, -0.0071466 ],            dtype=float32),\n",
              " DeviceArray([-0.00262909, -0.0071466 , -0.01942648, -0.05280664,\n",
              "              -0.14354332, -0.00262909, -0.0071466 ,  0.2353278 ],            dtype=float32)]"
            ]
          },
          "metadata": {
            "tags": []
          },
          "execution_count": 16
        }
      ]
    },
    {
      "cell_type": "code",
      "metadata": {
        "id": "6PLa4Vq9THBN",
        "colab_type": "code",
        "colab": {
          "base_uri": "https://localhost:8080/",
          "height": 51
        },
        "outputId": "8cb4876f-0b31-4ed3-d15a-06c84c16e62d"
      },
      "source": [
        "derivative_jax = np.diagonal(result_jax)\n",
        "derivative_jax"
      ],
      "execution_count": 17,
      "outputs": [
        {
          "output_type": "execute_result",
          "data": {
            "text/plain": [
              "array([0.00689111, 0.01850707, 0.04864554, 0.11995241, 0.2353278 ,\n",
              "       0.00689111, 0.01850707, 0.2353278 ], dtype=float32)"
            ]
          },
          "metadata": {
            "tags": []
          },
          "execution_count": 17
        }
      ]
    },
    {
      "cell_type": "code",
      "metadata": {
        "id": "xixxBe8u-BTf",
        "colab_type": "code",
        "outputId": "bc7752af-992c-43de-961c-3fa789076bf7",
        "colab": {
          "base_uri": "https://localhost:8080/",
          "height": 295
        }
      },
      "source": [
        "plt.bar(data_jax,derivative_jax, align='center', alpha=0.5)\n",
        "plt.xlabel('classes')\n",
        "plt.ylabel('probabilities')\n",
        "plt.title('softmax jax grad result')\n",
        "plt.show()"
      ],
      "execution_count": 18,
      "outputs": [
        {
          "output_type": "display_data",
          "data": {
            "image/png": "[encoded data removed]",
            "text/plain": [
              "<Figure size 432x288 with 1 Axes>"
            ]
          },
          "metadata": {
            "tags": []
          }
        }
      ]
    }
  ]
}