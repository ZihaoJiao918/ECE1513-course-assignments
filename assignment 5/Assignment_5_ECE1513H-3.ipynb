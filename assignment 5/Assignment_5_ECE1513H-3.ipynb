{
  "nbformat": 4,
  "nbformat_minor": 0,
  "metadata": {
    "colab": {
      "name": "Assignment 5 - ECE1513H",
      "provenance": [],
      "collapsed_sections": []
    },
    "kernelspec": {
      "name": "python3",
      "display_name": "Python 3"
    },
    "accelerator": "GPU"
  },
  "cells": [
    {
      "cell_type": "code",
      "metadata": {
        "id": "v0yDWKUrCBiX",
        "colab_type": "code",
        "colab": {}
      },
      "source": [
        "import array\n",
        "import gzip\n",
        "import itertools\n",
        "import numpy\n",
        "import numpy.random as npr\n",
        "import os\n",
        "import struct\n",
        "import time\n",
        "from os import path\n",
        "import urllib.request\n",
        "from matplotlib import pyplot as plt\n",
        "\n",
        "import jax.numpy as np\n",
        "from jax.api import jit, grad\n",
        "from jax.config import config\n",
        "from jax.scipy.special import logsumexp\n",
        "from jax import random"
      ],
      "execution_count": 0,
      "outputs": []
    },
    {
      "cell_type": "code",
      "metadata": {
        "id": "Du24u5vtDEIn",
        "colab_type": "code",
        "colab": {}
      },
      "source": [
        "_DATA = \"/tmp/\"\n",
        "\n",
        "def _download(url, filename):\n",
        "  \"\"\"Download a url to a file in the JAX data temp directory.\"\"\"\n",
        "  if not path.exists(_DATA):\n",
        "    os.makedirs(_DATA)\n",
        "  out_file = path.join(_DATA, filename)\n",
        "  if not path.isfile(out_file):\n",
        "    urllib.request.urlretrieve(url, out_file)\n",
        "    print(\"downloaded {} to {}\".format(url, _DATA))\n",
        "\n",
        "\n",
        "def _partial_flatten(x):\n",
        "  \"\"\"Flatten all but the first dimension of an ndarray.\"\"\"\n",
        "  return numpy.reshape(x, (x.shape[0], -1))\n",
        "\n",
        "\n",
        "def _one_hot(x, k, dtype=numpy.float32):\n",
        "  \"\"\"Create a one-hot encoding of x of size k.\"\"\"\n",
        "  return numpy.array(x[:, None] == numpy.arange(k), dtype)\n",
        "\n",
        "\n",
        "def mnist_raw():\n",
        "  \"\"\"Download and parse the raw MNIST dataset.\"\"\"\n",
        "  # CVDF mirror of http://yann.lecun.com/exdb/mnist/\n",
        "  base_url = \"https://storage.googleapis.com/cvdf-datasets/mnist/\"\n",
        "\n",
        "  def parse_labels(filename):\n",
        "    with gzip.open(filename, \"rb\") as fh:\n",
        "      _ = struct.unpack(\">II\", fh.read(8))\n",
        "      return numpy.array(array.array(\"B\", fh.read()), dtype=numpy.uint8)\n",
        "\n",
        "  def parse_images(filename):\n",
        "    with gzip.open(filename, \"rb\") as fh:\n",
        "      _, num_data, rows, cols = struct.unpack(\">IIII\", fh.read(16))\n",
        "      return numpy.array(array.array(\"B\", fh.read()),\n",
        "                      dtype=numpy.uint8).reshape(num_data, rows, cols)\n",
        "\n",
        "  for filename in [\"train-images-idx3-ubyte.gz\", \"train-labels-idx1-ubyte.gz\",\n",
        "                   \"t10k-images-idx3-ubyte.gz\", \"t10k-labels-idx1-ubyte.gz\"]:\n",
        "    _download(base_url + filename, filename)\n",
        "\n",
        "  train_images = parse_images(path.join(_DATA, \"train-images-idx3-ubyte.gz\"))\n",
        "  train_labels = parse_labels(path.join(_DATA, \"train-labels-idx1-ubyte.gz\"))\n",
        "  test_images = parse_images(path.join(_DATA, \"t10k-images-idx3-ubyte.gz\"))\n",
        "  test_labels = parse_labels(path.join(_DATA, \"t10k-labels-idx1-ubyte.gz\"))\n",
        "\n",
        "  return train_images, train_labels, test_images, test_labels\n",
        "\n",
        "\n",
        "def mnist(create_outliers=False):\n",
        "  \"\"\"Download, parse and process MNIST data to unit scale and one-hot labels.\"\"\"\n",
        "  train_images, train_labels, test_images, test_labels = mnist_raw()\n",
        "\n",
        "  train_images = _partial_flatten(train_images) / numpy.float32(255.)\n",
        "  test_images = _partial_flatten(test_images) / numpy.float32(255.)\n",
        "  train_labels = _one_hot(train_labels, 10)\n",
        "  test_labels = _one_hot(test_labels, 10)\n",
        "\n",
        "  if create_outliers:\n",
        "    mum_outliers = 30000\n",
        "    perm = numpy.random.RandomState(0).permutation(mum_outliers)\n",
        "    train_images[:mum_outliers] = train_images[:mum_outliers][perm]\n",
        "\n",
        "  return train_images, train_labels, test_images, test_labels\n",
        "\n",
        "def shape_as_image(images, labels, dummy_dim=False):\n",
        "  target_shape = (-1, 1, 28, 28, 1) if dummy_dim else (-1, 28, 28, 1)\n",
        "  return np.reshape(images, target_shape), labels\n",
        "\n",
        "train_images, train_labels, test_images, test_labels = mnist(create_outliers=False)\n",
        "num_train = train_images.shape[0]"
      ],
      "execution_count": 0,
      "outputs": []
    },
    {
      "cell_type": "code",
      "metadata": {
        "id": "UDjCuIGzIAjf",
        "colab_type": "code",
        "colab": {}
      },
      "source": [
        "def accuracy(params, batch):\n",
        "  inputs, targets = batch\n",
        "  target_class = np.argmax(targets, axis=1)\n",
        "  predicted_class = np.argmax(predict(params, inputs), axis=1)\n",
        "  return np.mean(predicted_class == target_class)\n",
        "\n",
        "def init_random_params(layer_sizes, rng=npr.RandomState(0)):\n",
        "  scale = 0.1\n",
        "  return [(scale * rng.randn(m, n), scale * rng.randn(n))\n",
        "          for m, n, in zip(layer_sizes[:-1], layer_sizes[1:])]"
      ],
      "execution_count": 0,
      "outputs": []
    },
    {
      "cell_type": "code",
      "metadata": {
        "id": "_6lLT1klOMIn",
        "colab_type": "code",
        "colab": {}
      },
      "source": [
        "batch_size = 128\n",
        "\n",
        "# num complete batches = 468\n",
        "# leftover = 96\n",
        "# num_train = 60,000\n",
        "# num_batches = 469 = num_training / batch_size = 60,000/128 = 469\n",
        "num_complete_batches, leftover = divmod(num_train, batch_size)\n",
        "num_batches = num_complete_batches + bool(leftover)\n",
        "\n",
        "def data_stream():\n",
        "  rng = npr.RandomState(0)\n",
        "  while True:\n",
        "    perm = rng.permutation(num_train)\n",
        "    for i in range(num_batches):\n",
        "      batch_idx = perm[i * batch_size:(i + 1) * batch_size]\n",
        "      yield train_images[batch_idx], train_labels[batch_idx]\n",
        "\n",
        "# gets the next batch of data\n",
        "batches = data_stream()"
      ],
      "execution_count": 0,
      "outputs": []
    },
    {
      "cell_type": "markdown",
      "metadata": {
        "id": "s9yFvjncWk8G",
        "colab_type": "text"
      },
      "source": [
        "# **Assignment 4: CNN**\n",
        "\n",
        "Before we get started, we need to import two small libraries that contain boilerplate code for common neural network layer types and for optimizers like mini-batch SGD."
      ]
    },
    {
      "cell_type": "code",
      "metadata": {
        "id": "tvLxNfXtXCRb",
        "colab_type": "code",
        "colab": {}
      },
      "source": [
        "from jax.experimental import optimizers\n",
        "from jax.experimental import stax"
      ],
      "execution_count": 0,
      "outputs": []
    },
    {
      "cell_type": "markdown",
      "metadata": {
        "id": "nNwMlXqfXI8G",
        "colab_type": "text"
      },
      "source": [
        "Here is a fully-connected neural network architecture, like the one of Problem 1, but this time defined with `stax`"
      ]
    },
    {
      "cell_type": "code",
      "metadata": {
        "id": "Y4wu1XqFds4X",
        "colab_type": "code",
        "colab": {}
      },
      "source": [
        "# modified network to achieve 99% accuracy\n",
        "init_random_params, predict = stax.serial(\n",
        "    stax.Conv(128, (5,5), strides = (2,2)),\n",
        "    stax.Relu,\n",
        "    stax.MaxPool((2,2), (1,1)),\n",
        "    stax.Conv(64, (5,5), strides = (2,2)),\n",
        "    stax.Relu,\n",
        "    stax.MaxPool((2,2), (1,1)),\n",
        "    stax.Flatten,\n",
        "    stax.Dense(256),\n",
        "    stax.Relu,\n",
        "    stax.Dense(64),\n",
        "    stax.Relu,\n",
        "    stax.Dense(10)\n",
        ")"
      ],
      "execution_count": 0,
      "outputs": []
    },
    {
      "cell_type": "markdown",
      "metadata": {
        "id": "nEW_OcOCdwFX",
        "colab_type": "text"
      },
      "source": [
        "We redefine the cross-entropy loss for this model. As done in Problem 1, complete the return line below (it's identical). "
      ]
    },
    {
      "cell_type": "code",
      "metadata": {
        "id": "zQEeOtAEdvYn",
        "colab_type": "code",
        "colab": {}
      },
      "source": [
        "def loss(params, batch):\n",
        "  inputs, targets = batch\n",
        "  logits = predict(params, inputs)\n",
        "  preds  = stax.logsoftmax(logits)\n",
        "  return -np.sum(targets*preds)/len(targets)"
      ],
      "execution_count": 0,
      "outputs": []
    },
    {
      "cell_type": "markdown",
      "metadata": {
        "id": "8ZBxTvCweJbN",
        "colab_type": "text"
      },
      "source": [
        "Next, we define the mini-batch SGD optimizer, this time with the optimizers library in JAX. "
      ]
    },
    {
      "cell_type": "code",
      "metadata": {
        "id": "peG-cAZ0eGTG",
        "colab_type": "code",
        "colab": {}
      },
      "source": [
        "learning_rate = 0.22\n",
        "opt_init, opt_update, get_params = optimizers.sgd(learning_rate)\n",
        "\n",
        "@jit\n",
        "def update(_, i, opt_state, batch):\n",
        "  params = get_params(opt_state)\n",
        "  return opt_update(i, grad(loss)(params, batch), opt_state)"
      ],
      "execution_count": 0,
      "outputs": []
    },
    {
      "cell_type": "markdown",
      "metadata": {
        "id": "gVx2h8lqeoTD",
        "colab_type": "text"
      },
      "source": [
        "The next cell contains our training loop, very similar to Problem 1. "
      ]
    },
    {
      "cell_type": "code",
      "metadata": {
        "id": "41Y6wwFzb-mk",
        "colab_type": "code",
        "outputId": "6632e16c-4456-4766-bbf6-7a2b896b342e",
        "colab": {
          "base_uri": "https://localhost:8080/",
          "height": 287
        }
      },
      "source": [
        "num_epochs = 15\n",
        "\n",
        "key = random.PRNGKey(123)\n",
        "_, init_params = init_random_params(key, (-1, 28, 28, 1))\n",
        "opt_state = opt_init(init_params)\n",
        "itercount = itertools.count()\n",
        "\n",
        "test_accuracy = []\n",
        "\n",
        "for epoch in range(1, num_epochs + 1):\n",
        "  for _ in range(num_batches):\n",
        "    opt_state = update(key, next(itercount), opt_state, shape_as_image(*next(batches)))\n",
        "\n",
        "  params = get_params(opt_state)\n",
        "  test_acc = accuracy(params, shape_as_image(test_images, test_labels))\n",
        "  test_accuracy.append(float(test_acc))\n",
        "  test_loss = loss(params, shape_as_image(test_images, test_labels))\n",
        "  # print('Test set loss, accuracy (%): ({:.2f}, {:.2f})'.format(test_loss, 100 * test_acc))\n",
        "  print('Test set accuracy (%): ({:.2f})'.format(100 * test_acc))"
      ],
      "execution_count": 9,
      "outputs": [
        {
          "output_type": "stream",
          "text": [
            "Test set accuracy (%): (98.15)\n",
            "Test set accuracy (%): (98.97)\n",
            "Test set accuracy (%): (99.03)\n",
            "Test set accuracy (%): (98.84)\n",
            "Test set accuracy (%): (99.06)\n",
            "Test set accuracy (%): (99.15)\n",
            "Test set accuracy (%): (99.25)\n",
            "Test set accuracy (%): (98.73)\n",
            "Test set accuracy (%): (98.58)\n",
            "Test set accuracy (%): (99.19)\n",
            "Test set accuracy (%): (99.11)\n",
            "Test set accuracy (%): (97.65)\n",
            "Test set accuracy (%): (99.00)\n",
            "Test set accuracy (%): (99.09)\n",
            "Test set accuracy (%): (99.20)\n"
          ],
          "name": "stdout"
        }
      ]
    },
    {
      "cell_type": "markdown",
      "metadata": {
        "id": "pDLYHarhXvn7",
        "colab_type": "text"
      },
      "source": [
        "# **Assignment 5: Adversarial Examples**"
      ]
    },
    {
      "cell_type": "markdown",
      "metadata": {
        "id": "WhL6l8_txPUj",
        "colab_type": "text"
      },
      "source": [
        "Find an image showing 7 in the test set."
      ]
    },
    {
      "cell_type": "code",
      "metadata": {
        "id": "Cxvm5CIkUPMR",
        "colab_type": "code",
        "colab": {}
      },
      "source": [
        "# array representing 7\n",
        "seven_array = np.array([0.,0.,0.,0.,0.,0.,0.,1.,0.,0.])\n",
        "\n",
        "seven_list = []\n",
        "\n",
        "# create a list of indexes where the number 7 exists\n",
        "for i in range(len(test_labels)):\n",
        "  if np.all(test_labels[i] == seven_array):\n",
        "    seven_list.append(i)"
      ],
      "execution_count": 0,
      "outputs": []
    },
    {
      "cell_type": "code",
      "metadata": {
        "id": "UfOqYwzQT_u0",
        "colab_type": "code",
        "outputId": "4712ce8f-0c3e-4073-99e2-8847134ff677",
        "colab": {
          "base_uri": "https://localhost:8080/",
          "height": 265
        }
      },
      "source": [
        "# visualize a particular image\n",
        "visualize_image = test_images[seven_list[0]]\n",
        "visualize_image = np.reshape(visualize_image, (28,28))\n",
        "plt.figure(1)\n",
        "plt.imshow(visualize_image, interpolation='nearest')\n",
        "plt.show()"
      ],
      "execution_count": 11,
      "outputs": [
        {
          "output_type": "display_data",
          "data": {
            "image/png": "[encoded data removed]",
            "text/plain": [
              "<Figure size 432x288 with 1 Axes>"
            ]
          },
          "metadata": {
            "tags": []
          }
        }
      ]
    },
    {
      "cell_type": "code",
      "metadata": {
        "id": "TQEbi_Lc3-8S",
        "colab_type": "code",
        "colab": {}
      },
      "source": [
        "# batch = shape_as_image(test_images, test_labels)\n",
        "# # inputs.shape = (10000, 28, 28, 1), targets.shape = (10000, 10)\n",
        "# # inputs[0].shape = (28, 28, 1)\n",
        "# # targets[0].shape = (10,1)\n",
        "# inputs, targets = batch"
      ],
      "execution_count": 0,
      "outputs": []
    },
    {
      "cell_type": "code",
      "metadata": {
        "id": "R2qkDnfCGPIN",
        "colab_type": "code",
        "colab": {}
      },
      "source": [
        "# # calculate adversarial loss\n",
        "# def loss_adv(input_image, target):\n",
        "#   logits = predict(params, input_image)\n",
        "#   preds  = stax.logsoftmax(logits)\n",
        "#   return -np.sum(target*preds)/len(target)"
      ],
      "execution_count": 0,
      "outputs": []
    },
    {
      "cell_type": "markdown",
      "metadata": {
        "id": "rnwrPYAzxZQk",
        "colab_type": "text"
      },
      "source": [
        "## Question 1"
      ]
    },
    {
      "cell_type": "markdown",
      "metadata": {
        "id": "HUsBtFwq8QQS",
        "colab_type": "text"
      },
      "source": [
        "### 1) Find Perturbation"
      ]
    },
    {
      "cell_type": "code",
      "metadata": {
        "id": "8hlFQCv2K9rz",
        "colab_type": "code",
        "colab": {}
      },
      "source": [
        "from jax.experimental.stax import logsoftmax"
      ],
      "execution_count": 0,
      "outputs": []
    },
    {
      "cell_type": "code",
      "metadata": {
        "id": "NymjQPce8rV_",
        "colab_type": "code",
        "colab": {}
      },
      "source": [
        "# reshape image to fit original inputs dimension\n",
        "seven = np.reshape(test_images[seven_list[0]], (1,28,28,1))"
      ],
      "execution_count": 0,
      "outputs": []
    },
    {
      "cell_type": "code",
      "metadata": {
        "id": "_aXXK0FlK0OY",
        "colab_type": "code",
        "colab": {}
      },
      "source": [
        "# calculate adversarial loss\n",
        "def loss_adv(input_image, target):\n",
        "  logits = predict(params, input_image)\n",
        "  return -np.sum(logsoftmax(logits)*target)/len(target)\n",
        "\n",
        "# calculate the gradient of adversarial loss with respect to input\n",
        "gradient = grad(loss_adv, (0))\n",
        "grads = gradient(seven, test_labels[seven_list[0]])"
      ],
      "execution_count": 0,
      "outputs": []
    },
    {
      "cell_type": "code",
      "metadata": {
        "id": "PUdd6SqridbS",
        "colab_type": "code",
        "colab": {}
      },
      "source": [
        "# reshape\n",
        "seven_image = np.reshape(seven, (28,28))\n",
        "noise_image = np.reshape(grads, (28,28))\n",
        "\n",
        "# get perturbation\n",
        "perturbation = 0.3*np.sign(noise_image)"
      ],
      "execution_count": 0,
      "outputs": []
    },
    {
      "cell_type": "markdown",
      "metadata": {
        "id": "uZxSNOKmv_gF",
        "colab_type": "text"
      },
      "source": [
        "### 2) Visualize Perturbed Image"
      ]
    },
    {
      "cell_type": "code",
      "metadata": {
        "id": "qR9mzfJUe59f",
        "colab_type": "code",
        "colab": {}
      },
      "source": [
        "# get adversarial example\n",
        "perturbed_image = seven_image + perturbation"
      ],
      "execution_count": 0,
      "outputs": []
    },
    {
      "cell_type": "code",
      "metadata": {
        "id": "2pMaFsa2f1hQ",
        "colab_type": "code",
        "colab": {
          "base_uri": "https://localhost:8080/",
          "height": 265
        },
        "outputId": "90ffb049-8bcb-490e-f23a-fe6d5c9d5362"
      },
      "source": [
        "# plot the perturbed image\n",
        "plt.figure(2)\n",
        "plt.imshow(perturbed_image, interpolation='nearest')\n",
        "plt.show()"
      ],
      "execution_count": 19,
      "outputs": [
        {
          "output_type": "display_data",
          "data": {
            "image/png": "[encoded data removed]",
            "text/plain": [
              "<Figure size 432x288 with 1 Axes>"
            ]
          },
          "metadata": {
            "tags": []
          }
        }
      ]
    },
    {
      "cell_type": "markdown",
      "metadata": {
        "id": "Pkrh3LVjw_PQ",
        "colab_type": "text"
      },
      "source": [
        "### 3) Prediction Vector Output of Original and Perturbed Image"
      ]
    },
    {
      "cell_type": "code",
      "metadata": {
        "id": "JRg7zaIrfrdT",
        "colab_type": "code",
        "colab": {
          "base_uri": "https://localhost:8080/",
          "height": 161
        },
        "outputId": "66090762-a290-4de1-a0ec-ac2798e2729b"
      },
      "source": [
        "# check prediction of perturbed image\n",
        "seven_image_ = np.reshape(seven_image, (1,28,28,1))\n",
        "logits = predict(params, seven_image_)\n",
        "preds  = stax.logsoftmax(logits)\n",
        "print(\"Prediction of Original Image: \", int(np.argmax(preds)))\n",
        "print(\"Prediction (vector) of Original Image: \", preds)\n",
        "print()\n",
        "\n",
        "# check prediction of perturbed image\n",
        "perturbed_image_ = np.reshape(perturbed_image, (1,28,28,1))\n",
        "logits = predict(params, perturbed_image_)\n",
        "preds  = stax.logsoftmax(logits)\n",
        "print(\"Prediction of Perturbed Image: \", int(np.argmax(preds)))\n",
        "print(\"Prediction (vector) of Perturbed Image: \", preds)"
      ],
      "execution_count": 20,
      "outputs": [
        {
          "output_type": "stream",
          "text": [
            "Prediction of Original Image:  7\n",
            "Prediction (vector) of Original Image:  [[-2.0806259e+01 -1.8431292e+01 -1.8775633e+01 -1.7268757e+01\n",
            "  -1.6481335e+01 -2.0463610e+01 -2.6512928e+01 -2.3841855e-07\n",
            "  -2.2024256e+01 -1.5572758e+01]]\n",
            "\n",
            "Prediction of Perturbed Image:  7\n",
            "Prediction (vector) of Perturbed Image:  [[-6.6563435 -3.5949972 -0.9271786 -2.402524  -3.836224  -5.328535\n",
            "  -5.7546873 -0.8647044 -3.5187502 -5.362487 ]]\n"
          ],
          "name": "stdout"
        }
      ]
    },
    {
      "cell_type": "markdown",
      "metadata": {
        "id": "XA0JV7bHxcsc",
        "colab_type": "text"
      },
      "source": [
        "## Question 2"
      ]
    },
    {
      "cell_type": "code",
      "metadata": {
        "id": "Bu8GISw7mrDl",
        "colab_type": "code",
        "colab": {}
      },
      "source": [
        "# get the first 1000 test image and labels\n",
        "test_img = test_images[:1000] # shape (1000,784)\n",
        "test_lb = test_labels[:1000] # shape (1000,10)\n",
        "\n",
        "# reshape image from 784 to 28 x 28\n",
        "reshaped_test_img = np.reshape(test_img, (1000, 28, 28, 1))\n",
        "\n",
        "# take gradient of all 1000 images and labels\n",
        "grads = gradient(reshaped_test_img, test_lb) # grads.shape = (1000, 28, 28, 1)"
      ],
      "execution_count": 0,
      "outputs": []
    },
    {
      "cell_type": "code",
      "metadata": {
        "id": "ZHfXOXZN2rPT",
        "colab_type": "code",
        "colab": {}
      },
      "source": [
        "# generate a set of perturbed images (shape = (1000,28,28,1))\n",
        "perturbed_imgs = reshaped_test_img + 0.3*np.sign(grads)"
      ],
      "execution_count": 0,
      "outputs": []
    },
    {
      "cell_type": "code",
      "metadata": {
        "id": "5aqTjMcU3oTu",
        "colab_type": "code",
        "colab": {}
      },
      "source": [
        "# calculate accuracy of the generated perturbed imgs with epsilon = 0.3\n",
        "test_acc = accuracy(params, shape_as_image(perturbed_imgs, test_lb))"
      ],
      "execution_count": 0,
      "outputs": []
    },
    {
      "cell_type": "markdown",
      "metadata": {
        "id": "TPwLqw7k6bku",
        "colab_type": "text"
      },
      "source": [
        "### Plot Epsilon vs Accuracy"
      ]
    },
    {
      "cell_type": "code",
      "metadata": {
        "id": "WCvI4xr-590v",
        "colab_type": "code",
        "colab": {}
      },
      "source": [
        "# generate a list of epsilons for plotting\n",
        "epsilon_list = np.arange(0, 2, 0.01).tolist()"
      ],
      "execution_count": 0,
      "outputs": []
    },
    {
      "cell_type": "code",
      "metadata": {
        "id": "TFlH6RtY4qNX",
        "colab_type": "code",
        "colab": {}
      },
      "source": [
        "accuracy_list = []\n",
        "\n",
        "for eps in epsilon_list:\n",
        "  perturbed_imgs = reshaped_test_img + eps*np.sign(grads)\n",
        "  test_acc = accuracy(params, shape_as_image(perturbed_imgs, test_lb))\n",
        "  accuracy_list.append(float(test_acc))"
      ],
      "execution_count": 0,
      "outputs": []
    },
    {
      "cell_type": "code",
      "metadata": {
        "id": "0_n1kMBa45nf",
        "colab_type": "code",
        "colab": {
          "base_uri": "https://localhost:8080/",
          "height": 295
        },
        "outputId": "55d0a041-7b44-452f-a4a6-c1fce76b7d3f"
      },
      "source": [
        "# plot epsilon vs accuracy\n",
        "plt.figure(3)\n",
        "plt.plot(epsilon_list, accuracy_list)\n",
        "plt.title('Epsilon vs Accuracy')\n",
        "plt.xlabel('Epsilon')\n",
        "plt.ylabel('Accuracy')\n",
        "plt.show()"
      ],
      "execution_count": 26,
      "outputs": [
        {
          "output_type": "display_data",
          "data": {
            "image/png": "[encoded data removed]",
            "text/plain": [
              "<Figure size 432x288 with 1 Axes>"
            ]
          },
          "metadata": {
            "tags": []
          }
        }
      ]
    },
    {
      "cell_type": "markdown",
      "metadata": {
        "id": "5Bq7Xgzr842R",
        "colab_type": "text"
      },
      "source": [
        "## Question 3"
      ]
    },
    {
      "cell_type": "markdown",
      "metadata": {
        "id": "Snr6Xw6YEcbc",
        "colab_type": "text"
      },
      "source": [
        "### 1) Code to find the Perturbation (Iteratively)"
      ]
    },
    {
      "cell_type": "code",
      "metadata": {
        "id": "HEN7L2uLAHHK",
        "colab_type": "code",
        "colab": {}
      },
      "source": [
        "# reshape image to fit original inputs dimension\n",
        "seven = np.reshape(test_images[seven_list[0]], (1,28,28,1))\n",
        "\n",
        "# make a copy of original image\n",
        "seven_original = seven\n",
        "\n",
        "# use a small hyperparamter that is roughly epsilon/k where k = 5\n",
        "epsilon = 0.3/5\n",
        "\n",
        "for k in range(1, 6):\n",
        "\n",
        "  # calculate the gradient of adversarial loss with respect to input\n",
        "  gradient = grad(loss_adv, (0))\n",
        "  grads = gradient(seven, test_labels[seven_list[0]])\n",
        "\n",
        "  # reshape to (28,28)\n",
        "  seven_image = np.reshape(seven, (28,28))\n",
        "  noise_image = np.reshape(grads, (28,28))\n",
        "\n",
        "  # perturbate the image\n",
        "  perturbation = epsilon*np.sign(noise_image)\n",
        "  perturbed_image = seven_image + perturbation\n",
        "\n",
        "  # carry the perturbed image in to the next iteration\n",
        "  seven_image = perturbed_image\n",
        "  seven = np.reshape(seven_image, (1,28,28,1))"
      ],
      "execution_count": 0,
      "outputs": []
    },
    {
      "cell_type": "markdown",
      "metadata": {
        "id": "eRcDtj3zEg2V",
        "colab_type": "text"
      },
      "source": [
        "### 2) Visualize the Perturbed Image"
      ]
    },
    {
      "cell_type": "code",
      "metadata": {
        "id": "qIk5K05xAteg",
        "colab_type": "code",
        "colab": {
          "base_uri": "https://localhost:8080/",
          "height": 265
        },
        "outputId": "4af233a1-c254-4f7e-8876-60d351348de6"
      },
      "source": [
        "# show iteratively perturbed image\n",
        "plt.figure(4)\n",
        "plt.imshow(perturbed_image, interpolation='nearest')\n",
        "plt.show()"
      ],
      "execution_count": 54,
      "outputs": [
        {
          "output_type": "display_data",
          "data": {
            "image/png": "[encoded data removed]",
            "text/plain": [
              "<Figure size 432x288 with 1 Axes>"
            ]
          },
          "metadata": {
            "tags": []
          }
        }
      ]
    },
    {
      "cell_type": "markdown",
      "metadata": {
        "id": "t81NorHVEkM5",
        "colab_type": "text"
      },
      "source": [
        "### 3) Prediction Vector of Original and Perturbed Image"
      ]
    },
    {
      "cell_type": "code",
      "metadata": {
        "id": "EafjQDBuBH-2",
        "colab_type": "code",
        "colab": {
          "base_uri": "https://localhost:8080/",
          "height": 179
        },
        "outputId": "4e7d8d23-0760-48ad-f42e-5d68f6d01df6"
      },
      "source": [
        "# check prediction of perturbed image\n",
        "seven_image_ = seven_original\n",
        "logits = predict(params, seven_image_)\n",
        "preds  = stax.logsoftmax(logits)\n",
        "print(\"Prediction of Original Image: \", int(np.argmax(preds)))\n",
        "print(\"Prediction (vector) of Original Image: \", preds)\n",
        "print()\n",
        "\n",
        "# check prediction of perturbed image\n",
        "perturbed_image_ = np.reshape(perturbed_image, (1,28,28,1))\n",
        "logits = predict(params, perturbed_image_)\n",
        "preds  = stax.logsoftmax(logits)\n",
        "print(\"Prediction of Perturbed Image: \", int(np.argmax(preds)))\n",
        "print(\"Prediction (vector) of Perturbed Image: \", preds)"
      ],
      "execution_count": 50,
      "outputs": [
        {
          "output_type": "stream",
          "text": [
            "Prediction of Original Image:  7\n",
            "Prediction (vector) of Original Image:  [[-2.0806259e+01 -1.8431292e+01 -1.8775633e+01 -1.7268757e+01\n",
            "  -1.6481335e+01 -2.0463610e+01 -2.6512928e+01 -2.3841855e-07\n",
            "  -2.2024256e+01 -1.5572758e+01]]\n",
            "\n",
            "Prediction of Perturbed Image:  9\n",
            "Prediction (vector) of Perturbed Image:  [[-1.3933599e+01 -1.5307801e+01 -1.8578835e+01 -8.4177923e+00\n",
            "  -1.1439633e+01 -1.0069764e+01 -1.6172129e+01 -8.2007065e+00\n",
            "  -1.1121210e+01 -5.6465418e-04]]\n"
          ],
          "name": "stdout"
        }
      ]
    },
    {
      "cell_type": "markdown",
      "metadata": {
        "id": "k6r-91CQEUaT",
        "colab_type": "text"
      },
      "source": [
        "## Question 4"
      ]
    },
    {
      "cell_type": "code",
      "metadata": {
        "id": "a6VWUJEKEXLv",
        "colab_type": "code",
        "colab": {}
      },
      "source": [
        "# generate a list of epsilons for plotting\n",
        "epsilon_list = np.arange(0, 2, 0.01).tolist()"
      ],
      "execution_count": 0,
      "outputs": []
    },
    {
      "cell_type": "code",
      "metadata": {
        "id": "LsbuzNHlGzh2",
        "colab_type": "code",
        "colab": {}
      },
      "source": [
        "# get the first 1000 test image and labels\n",
        "test_img = test_images[:1000] # shape (1000,784)\n",
        "test_lb = test_labels[:1000] # shape (1000,10)\n",
        "\n",
        "# reshape image from (1000, 784) to (1000, 28, 28, 1)\n",
        "reshaped_test_img = np.reshape(test_img, (1000, 28, 28, 1))"
      ],
      "execution_count": 0,
      "outputs": []
    },
    {
      "cell_type": "code",
      "metadata": {
        "id": "shlwKs79Ethu",
        "colab_type": "code",
        "colab": {}
      },
      "source": [
        "accuracy_list = []\n",
        "\n",
        "for eps in epsilon_list:\n",
        "\n",
        "  # use a small hyperparamter that is roughly epsilon/k where k = 5\n",
        "  epsilon = eps/5\n",
        "\n",
        "  # iteratively perturb the image over 5 steps\n",
        "  for k in range(1, 6):\n",
        "\n",
        "    # calculate the gradient of adversarial loss with respect to input\n",
        "    gradient = grad(loss_adv, (0))\n",
        "    grads = gradient(reshaped_test_img, test_lb)\n",
        "\n",
        "    # get perturbed imgs\n",
        "    perturbed_imgs = reshaped_test_img + epsilon*np.sign(grads)\n",
        "\n",
        "    # carry the perturbed image in to the next iteration\n",
        "    reshaped_test_img = perturbed_imgs\n",
        "\n",
        "  # calculate test acc of perturbed imgs\n",
        "  test_acc = accuracy(params, shape_as_image(perturbed_imgs, test_lb))\n",
        "  accuracy_list.append(float(test_acc))"
      ],
      "execution_count": 0,
      "outputs": []
    },
    {
      "cell_type": "code",
      "metadata": {
        "id": "o_z0BoqkEt98",
        "colab_type": "code",
        "colab": {
          "base_uri": "https://localhost:8080/",
          "height": 295
        },
        "outputId": "1fe79140-738e-48b8-fc8a-93ebc80f2027"
      },
      "source": [
        "# plot epsilon vs accuracy\n",
        "plt.figure(5)\n",
        "plt.plot(epsilon_list, accuracy_list)\n",
        "plt.title('Epsilon vs Accuracy')\n",
        "plt.xlabel('Epsilon')\n",
        "plt.ylabel('Accuracy')\n",
        "plt.show()"
      ],
      "execution_count": 70,
      "outputs": [
        {
          "output_type": "display_data",
          "data": {
            "image/png": "[encoded data removed]",
            "text/plain": [
              "<Figure size 432x288 with 1 Axes>"
            ]
          },
          "metadata": {
            "tags": []
          }
        }
      ]
    }
  ]
}