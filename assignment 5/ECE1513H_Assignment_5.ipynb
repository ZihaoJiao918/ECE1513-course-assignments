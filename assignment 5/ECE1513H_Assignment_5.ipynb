{
  "nbformat": 4,
  "nbformat_minor": 0,
  "metadata": {
    "accelerator": "GPU",
    "colab": {
      "name": "ECE1513H_Assignment_5.ipynb",
      "provenance": [],
      "toc_visible": true
    },
    "kernelspec": {
      "display_name": "Python 3",
      "language": "python",
      "name": "python3"
    },
    "language_info": {
      "codemirror_mode": {
        "name": "ipython",
        "version": 3
      },
      "file_extension": ".py",
      "mimetype": "text/x-python",
      "name": "python",
      "nbconvert_exporter": "python",
      "pygments_lexer": "ipython3",
      "version": "3.7.3"
    }
  },
  "cells": [
    {
      "cell_type": "code",
      "metadata": {
        "colab_type": "code",
        "id": "v0yDWKUrCBiX",
        "colab": {}
      },
      "source": [
        "import array\n",
        "import gzip\n",
        "import itertools\n",
        "import numpy\n",
        "import numpy.random as npr\n",
        "import os\n",
        "import struct\n",
        "import time\n",
        "from os import path\n",
        "import urllib.request\n",
        "\n",
        "import jax.numpy as np\n",
        "from jax.api import jit, grad\n",
        "from jax.config import config\n",
        "from jax.scipy.special import logsumexp\n",
        "from jax import random"
      ],
      "execution_count": 0,
      "outputs": []
    },
    {
      "cell_type": "markdown",
      "metadata": {
        "colab_type": "text",
        "id": "nIp--T57NGrU"
      },
      "source": [
        "The following cell contains boilerplate code to download and load MNIST data."
      ]
    },
    {
      "cell_type": "code",
      "metadata": {
        "colab_type": "code",
        "id": "Du24u5vtDEIn",
        "colab": {}
      },
      "source": [
        "_DATA = \"/tmp/\"\n",
        "\n",
        "def _download(url, filename):\n",
        "  \"\"\"Download a url to a file in the JAX data temp directory.\"\"\"\n",
        "  if not path.exists(_DATA):\n",
        "    os.makedirs(_DATA)\n",
        "  out_file = path.join(_DATA, filename)\n",
        "  if not path.isfile(out_file):\n",
        "    urllib.request.urlretrieve(url, out_file)\n",
        "    print(\"downloaded {} to {}\".format(url, _DATA))\n",
        "\n",
        "\n",
        "def _partial_flatten(x):\n",
        "  \"\"\"Flatten all but the first dimension of an ndarray.\"\"\"\n",
        "  return numpy.reshape(x, (x.shape[0], -1))\n",
        "\n",
        "\n",
        "def _one_hot(x, k, dtype=numpy.float32):\n",
        "  \"\"\"Create a one-hot encoding of x of size k.\"\"\"\n",
        "  return numpy.array(x[:, None] == numpy.arange(k), dtype)\n",
        "\n",
        "\n",
        "def mnist_raw():\n",
        "  \"\"\"Download and parse the raw MNIST dataset.\"\"\"\n",
        "  # CVDF mirror of http://yann.lecun.com/exdb/mnist/\n",
        "  base_url = \"https://storage.googleapis.com/cvdf-datasets/mnist/\"\n",
        "\n",
        "  def parse_labels(filename):\n",
        "    with gzip.open(filename, \"rb\") as fh:\n",
        "      _ = struct.unpack(\">II\", fh.read(8))\n",
        "      return numpy.array(array.array(\"B\", fh.read()), dtype=numpy.uint8)\n",
        "\n",
        "  def parse_images(filename):\n",
        "    with gzip.open(filename, \"rb\") as fh:\n",
        "      _, num_data, rows, cols = struct.unpack(\">IIII\", fh.read(16))\n",
        "      return numpy.array(array.array(\"B\", fh.read()),\n",
        "                      dtype=numpy.uint8).reshape(num_data, rows, cols)\n",
        "\n",
        "  for filename in [\"train-images-idx3-ubyte.gz\", \"train-labels-idx1-ubyte.gz\",\n",
        "                   \"t10k-images-idx3-ubyte.gz\", \"t10k-labels-idx1-ubyte.gz\"]:\n",
        "    _download(base_url + filename, filename)\n",
        "\n",
        "  train_images = parse_images(path.join(_DATA, \"train-images-idx3-ubyte.gz\"))\n",
        "  train_labels = parse_labels(path.join(_DATA, \"train-labels-idx1-ubyte.gz\"))\n",
        "  test_images = parse_images(path.join(_DATA, \"t10k-images-idx3-ubyte.gz\"))\n",
        "  test_labels = parse_labels(path.join(_DATA, \"t10k-labels-idx1-ubyte.gz\"))\n",
        "\n",
        "  return train_images, train_labels, test_images, test_labels\n",
        "\n",
        "\n",
        "def mnist(create_outliers=False):\n",
        "  \"\"\"Download, parse and process MNIST data to unit scale and one-hot labels.\"\"\"\n",
        "  train_images, train_labels, test_images, test_labels = mnist_raw()\n",
        "\n",
        "  train_images = _partial_flatten(train_images) / numpy.float32(255.)\n",
        "  test_images = _partial_flatten(test_images) / numpy.float32(255.)\n",
        "  train_labels = _one_hot(train_labels, 10)\n",
        "  test_labels = _one_hot(test_labels, 10)\n",
        "\n",
        "  if create_outliers:\n",
        "    mum_outliers = 30000\n",
        "    perm = numpy.random.RandomState(0).permutation(mum_outliers)\n",
        "    train_images[:mum_outliers] = train_images[:mum_outliers][perm]\n",
        "\n",
        "  return train_images, train_labels, test_images, test_labels\n",
        "\n",
        "def shape_as_image(images, labels, dummy_dim=False):\n",
        "  target_shape = (-1, 1, 28, 28, 1) if dummy_dim else (-1, 28, 28, 1)\n",
        "  return np.reshape(images, target_shape), labels\n",
        "\n",
        "train_images, train_labels, test_images, test_labels = mnist(create_outliers=False)\n",
        "num_train = train_images.shape[0]"
      ],
      "execution_count": 0,
      "outputs": []
    },
    {
      "cell_type": "markdown",
      "metadata": {
        "colab_type": "text",
        "id": "ILZ-q5PTMohU"
      },
      "source": [
        "The following cell defines the accuracy of our model and how to initialize its parameters. "
      ]
    },
    {
      "cell_type": "code",
      "metadata": {
        "colab_type": "code",
        "id": "UDjCuIGzIAjf",
        "colab": {}
      },
      "source": [
        "def accuracy(params, batch):\n",
        "  inputs, targets = batch\n",
        "  target_class = np.argmax(targets, axis=1)\n",
        "  predicted_class = np.argmax(predict(params, inputs), axis=1)\n",
        "  return np.mean(predicted_class == target_class)\n",
        "\n",
        "def init_random_params(layer_sizes, rng=npr.RandomState(0)):\n",
        "  scale = 0.1\n",
        "  return [(scale * rng.randn(m, n), scale * rng.randn(n))\n",
        "          for m, n, in zip(layer_sizes[:-1], layer_sizes[1:])]"
      ],
      "execution_count": 0,
      "outputs": []
    },
    {
      "cell_type": "code",
      "metadata": {
        "colab_type": "code",
        "id": "_6lLT1klOMIn",
        "colab": {}
      },
      "source": [
        "batch_size = 50\n",
        "num_complete_batches, leftover = divmod(num_train, batch_size)\n",
        "num_batches = num_complete_batches + bool(leftover)\n",
        "\n",
        "def data_stream():\n",
        "  rng = npr.RandomState(0)\n",
        "  while True:\n",
        "    perm = rng.permutation(num_train)\n",
        "    for i in range(num_batches):\n",
        "      batch_idx = perm[i * batch_size:(i + 1) * batch_size]\n",
        "      yield train_images[batch_idx], train_labels[batch_idx]\n",
        "batches = data_stream()"
      ],
      "execution_count": 0,
      "outputs": []
    },
    {
      "cell_type": "code",
      "metadata": {
        "colab_type": "code",
        "id": "tvLxNfXtXCRb",
        "colab": {}
      },
      "source": [
        "from jax.experimental import optimizers\n",
        "from jax.experimental import stax"
      ],
      "execution_count": 0,
      "outputs": []
    },
    {
      "cell_type": "code",
      "metadata": {
        "colab_type": "code",
        "id": "Y4wu1XqFds4X",
        "colab": {}
      },
      "source": [
        "init_random_params, predict = stax.serial(\n",
        "    stax.Conv(256, (5,5),strides = (2,2)),\n",
        "    stax.Relu,\n",
        "    stax.Conv(128, (3,3)),\n",
        "    stax.Relu,\n",
        "    stax.Conv(32, (3,3)),\n",
        "    stax.Relu,\n",
        "    stax.MaxPool((2,2)),\n",
        "    stax.Flatten,\n",
        "    stax.Dense(1024),\n",
        "    stax.Relu,\n",
        "    stax.Dense(128),\n",
        "    stax.Relu,\n",
        "    stax.Dense(10),\n",
        ")"
      ],
      "execution_count": 0,
      "outputs": []
    },
    {
      "cell_type": "markdown",
      "metadata": {
        "colab_type": "text",
        "id": "nEW_OcOCdwFX"
      },
      "source": [
        "We redefine the cross-entropy loss for this model. As done in Problem 1, complete the return line below (it's identical). "
      ]
    },
    {
      "cell_type": "code",
      "metadata": {
        "colab_type": "code",
        "id": "zQEeOtAEdvYn",
        "colab": {}
      },
      "source": [
        "def loss(params, batch):\n",
        "  inputs, targets = batch\n",
        "  logits = predict(params, inputs)\n",
        "  preds  = stax.logsoftmax(logits)\n",
        "  return -np.sum(targets*preds)/len(targets)"
      ],
      "execution_count": 0,
      "outputs": []
    },
    {
      "cell_type": "markdown",
      "metadata": {
        "colab_type": "text",
        "id": "8ZBxTvCweJbN"
      },
      "source": [
        "Next, we define the mini-batch SGD optimizer, this time with the optimizers library in JAX. "
      ]
    },
    {
      "cell_type": "code",
      "metadata": {
        "colab_type": "code",
        "id": "peG-cAZ0eGTG",
        "colab": {}
      },
      "source": [
        "learning_rate = 0.08\n",
        "opt_init, opt_update, get_params = optimizers.sgd(learning_rate)\n",
        "\n",
        "@jit\n",
        "def update(_, i, opt_state, batch):\n",
        "  params = get_params(opt_state)\n",
        "  return opt_update(i, grad(loss)(params, batch), opt_state)"
      ],
      "execution_count": 0,
      "outputs": []
    },
    {
      "cell_type": "markdown",
      "metadata": {
        "colab_type": "text",
        "id": "gVx2h8lqeoTD"
      },
      "source": [
        "The next cell contains our training loop, very similar to Problem 1. "
      ]
    },
    {
      "cell_type": "markdown",
      "metadata": {
        "colab_type": "text",
        "id": "aCs9w6hW-ylB"
      },
      "source": [
        "learning rate, batch size, number\n",
        "of epochs"
      ]
    },
    {
      "cell_type": "code",
      "metadata": {
        "colab_type": "code",
        "id": "41Y6wwFzb-mk",
        "outputId": "1fce54f3-c59c-4b49-9e88-ffe2399fbf79",
        "colab": {
          "base_uri": "https://localhost:8080/",
          "height": 357
        }
      },
      "source": [
        "num_epochs = 20\n",
        "\n",
        "key = random.PRNGKey(123)\n",
        "_, init_params = init_random_params(key, (-1, 28, 28, 1))\n",
        "opt_state = opt_init(init_params)\n",
        "itercount = itertools.count()\n",
        "\n",
        "acc_list=[]\n",
        "for epoch in range(1, num_epochs + 1):\n",
        "  for _ in range(num_batches):\n",
        "    opt_state = update(key, next(itercount), opt_state, shape_as_image(*next(batches)))\n",
        "\n",
        "  params = get_params(opt_state)\n",
        "  test_acc = accuracy(params, shape_as_image(test_images, test_labels))\n",
        "  test_loss = loss(params, shape_as_image(test_images, test_labels))\n",
        "  print('Test set loss, accuracy (%): ({:.2f}, {:.2f})'.format(test_loss, 100 * test_acc))\n",
        "  acc_list.append(test_acc)"
      ],
      "execution_count": 9,
      "outputs": [
        {
          "output_type": "stream",
          "text": [
            "Test set loss, accuracy (%): (0.05, 98.54)\n",
            "Test set loss, accuracy (%): (0.03, 98.84)\n",
            "Test set loss, accuracy (%): (0.03, 98.93)\n",
            "Test set loss, accuracy (%): (0.04, 98.66)\n",
            "Test set loss, accuracy (%): (0.03, 99.00)\n",
            "Test set loss, accuracy (%): (0.04, 98.90)\n",
            "Test set loss, accuracy (%): (0.03, 99.16)\n",
            "Test set loss, accuracy (%): (0.03, 99.22)\n",
            "Test set loss, accuracy (%): (0.04, 98.95)\n",
            "Test set loss, accuracy (%): (0.03, 99.17)\n",
            "Test set loss, accuracy (%): (0.04, 99.13)\n",
            "Test set loss, accuracy (%): (0.03, 99.15)\n",
            "Test set loss, accuracy (%): (0.03, 99.16)\n",
            "Test set loss, accuracy (%): (0.03, 99.15)\n",
            "Test set loss, accuracy (%): (0.04, 99.19)\n",
            "Test set loss, accuracy (%): (0.03, 99.32)\n",
            "Test set loss, accuracy (%): (0.04, 99.30)\n",
            "Test set loss, accuracy (%): (0.04, 99.34)\n",
            "Test set loss, accuracy (%): (0.04, 99.34)\n",
            "Test set loss, accuracy (%): (0.04, 99.32)\n"
          ],
          "name": "stdout"
        }
      ]
    },
    {
      "cell_type": "markdown",
      "metadata": {
        "id": "PInS3m6HV660",
        "colab_type": "text"
      },
      "source": [
        "# Assignment 5"
      ]
    },
    {
      "cell_type": "markdown",
      "metadata": {
        "id": "R22hYYSysN_d",
        "colab_type": "text"
      },
      "source": [
        "## question1"
      ]
    },
    {
      "cell_type": "code",
      "metadata": {
        "id": "fVXDj_PRXXKT",
        "colab_type": "code",
        "colab": {}
      },
      "source": [
        "class_7_label = [0.,0.,0.,0.,0.,0.,0.,1.,0.,0.]\n",
        "index_class7 = test_labels.tolist().index(class_7_label)\n",
        "input_image, input_label = shape_as_image(test_images[index_class7], test_labels[index_class7])"
      ],
      "execution_count": 0,
      "outputs": []
    },
    {
      "cell_type": "code",
      "metadata": {
        "id": "c8LRN38yjb0r",
        "colab_type": "code",
        "outputId": "ab4bdde4-1eeb-4fbc-aecc-f681bf12e732",
        "colab": {
          "base_uri": "https://localhost:8080/",
          "height": 282
        }
      },
      "source": [
        "#original image visulization\n",
        "from matplotlib import pyplot as plt\n",
        "visualize_image = input_image\n",
        "visualize_image = np.reshape(visualize_image, (28,28))\n",
        "plt.imshow(visualize_image, interpolation='nearest')"
      ],
      "execution_count": 11,
      "outputs": [
        {
          "output_type": "execute_result",
          "data": {
            "text/plain": [
              "<matplotlib.image.AxesImage at 0x7f38f2be5cc0>"
            ]
          },
          "metadata": {
            "tags": []
          },
          "execution_count": 11
        },
        {
          "output_type": "display_data",
          "data": {
            "image/png": "[encoded data removed]",
            "text/plain": [
              "<Figure size 432x288 with 1 Axes>"
            ]
          },
          "metadata": {
            "tags": []
          }
        }
      ]
    },
    {
      "cell_type": "code",
      "metadata": {
        "id": "4fOW8I5QV9JB",
        "colab_type": "code",
        "colab": {}
      },
      "source": [
        "epsilon = 0.3"
      ],
      "execution_count": 0,
      "outputs": []
    },
    {
      "cell_type": "code",
      "metadata": {
        "id": "713_ZDuEWe7F",
        "colab_type": "code",
        "colab": {}
      },
      "source": [
        "def loss_adversarial(params, inputs, target):\n",
        "  logits = predict(params, inputs)\n",
        "  preds = stax.logsoftmax(logits)\n",
        "  return -np.sum(target*preds)/len(target)\n",
        "\n",
        "grad_inputx = grad(loss_adversarial,1)(params, input_image, input_label)\n",
        "#test_loss = loss_adversarial(params, shape_as_image(test_images[index_class7], test_labels[index_class7]))"
      ],
      "execution_count": 0,
      "outputs": []
    },
    {
      "cell_type": "code",
      "metadata": {
        "id": "rA64JoVYkWDQ",
        "colab_type": "code",
        "colab": {}
      },
      "source": [
        "#finding perturbation\n",
        "x_star = input_image + epsilon * np.sign(grad_inputx)"
      ],
      "execution_count": 0,
      "outputs": []
    },
    {
      "cell_type": "code",
      "metadata": {
        "id": "552GPY9Hl16c",
        "colab_type": "code",
        "outputId": "32f80e0f-7ba9-4a77-b97e-de9f8cdab5ef",
        "colab": {
          "base_uri": "https://localhost:8080/",
          "height": 282
        }
      },
      "source": [
        "#visualization of the perturbed image\n",
        "visualize_image = x_star\n",
        "visualize_image = np.reshape(visualize_image, (28,28))\n",
        "plt.imshow(visualize_image, interpolation='nearest')"
      ],
      "execution_count": 15,
      "outputs": [
        {
          "output_type": "execute_result",
          "data": {
            "text/plain": [
              "<matplotlib.image.AxesImage at 0x7f38f2c771d0>"
            ]
          },
          "metadata": {
            "tags": []
          },
          "execution_count": 15
        },
        {
          "output_type": "display_data",
          "data": {
            "image/png": "[encoded data removed]",
            "text/plain": [
              "<Figure size 432x288 with 1 Axes>"
            ]
          },
          "metadata": {
            "tags": []
          }
        }
      ]
    },
    {
      "cell_type": "code",
      "metadata": {
        "id": "wdrq06igm1md",
        "colab_type": "code",
        "outputId": "5e545f64-5192-45af-84fa-abc12f80529f",
        "colab": {
          "base_uri": "https://localhost:8080/",
          "height": 68
        }
      },
      "source": [
        "#prediction vector on original image\n",
        "original_vector = predict(params, input_image)\n",
        "print(\"original image prediction vector:\",original_vector)\n",
        "print(\"original image prediction class is:\",np.argmax(input_label))"
      ],
      "execution_count": 16,
      "outputs": [
        {
          "output_type": "stream",
          "text": [
            "original image prediction vector: [[-10.591128    3.242197   -2.06981     5.1399255   5.895992   -8.595505\n",
            "  -17.238644   31.00107    -6.7674303   6.42636  ]]\n",
            "original image prediction class is: 7\n"
          ],
          "name": "stdout"
        }
      ]
    },
    {
      "cell_type": "code",
      "metadata": {
        "id": "QnkxasXzoZaT",
        "colab_type": "code",
        "outputId": "06e59f50-6609-49b0-d6c5-892a39b6076c",
        "colab": {
          "base_uri": "https://localhost:8080/",
          "height": 119
        }
      },
      "source": [
        "#prediction vector on perturbed image\n",
        "prediction=predict(params, x_star)\n",
        "print(\"perturbed image prediction vector:\\n\",prediction)\n",
        "print(\"\\n\")\n",
        "print(\"perturbed image prediction class is:\",np.argmax(prediction))"
      ],
      "execution_count": 17,
      "outputs": [
        {
          "output_type": "stream",
          "text": [
            "perturbed image prediction vector:\n",
            " [[ -8.468346    -0.44819298  -2.3158536    2.9975183    6.421769\n",
            "   -4.1822863  -10.618071     4.271467     0.768729    11.091545  ]]\n",
            "\n",
            "\n",
            "perturbed image prediction class is: 9\n"
          ],
          "name": "stdout"
        }
      ]
    },
    {
      "cell_type": "markdown",
      "metadata": {
        "id": "JWV2yLAFsQac",
        "colab_type": "text"
      },
      "source": [
        "## question 2"
      ]
    },
    {
      "cell_type": "code",
      "metadata": {
        "id": "SI8Aze89ti6s",
        "colab_type": "code",
        "colab": {}
      },
      "source": [
        "image = test_images[0:1000]\n",
        "label = test_labels[0:1000]\n",
        "input_image_q2, input_label_q2 = shape_as_image(image, label)\n",
        "grad_inputx = grad(loss_adversarial,1)(params, input_image_q2, input_label_q2)"
      ],
      "execution_count": 0,
      "outputs": []
    },
    {
      "cell_type": "code",
      "metadata": {
        "id": "W9z9kgxRsSGo",
        "colab_type": "code",
        "colab": {}
      },
      "source": [
        "accuracy_result= []\n",
        "epsilon = np.arange(0,1,0.01)\n",
        "for i in epsilon: \n",
        "\n",
        "  #update input\n",
        "  x_star = input_image_q2 + i * np.sign(grad_inputx)\n",
        "  #calculate accuracy\n",
        "  test_acc = accuracy(params, shape_as_image(x_star, label))\n",
        "  accuracy_result.append(test_acc)"
      ],
      "execution_count": 0,
      "outputs": []
    },
    {
      "cell_type": "code",
      "metadata": {
        "id": "SspeQdS70Svn",
        "colab_type": "code",
        "outputId": "865cafcf-d27f-4989-813f-9c247c4d81e0",
        "colab": {
          "base_uri": "https://localhost:8080/",
          "height": 279
        }
      },
      "source": [
        "#plot\n",
        "plt.plot(epsilon, accuracy_result)\n",
        "plt.xlabel(\"epsilon\")\n",
        "plt.ylabel(\"average accuracy of 1000 images\")\n",
        "plt.show()"
      ],
      "execution_count": 29,
      "outputs": [
        {
          "output_type": "display_data",
          "data": {
            "image/png": "[encoded data removed]",
            "text/plain": [
              "<Figure size 432x288 with 1 Axes>"
            ]
          },
          "metadata": {
            "tags": []
          }
        }
      ]
    },
    {
      "cell_type": "markdown",
      "metadata": {
        "id": "cr7WgQqh9z1m",
        "colab_type": "text"
      },
      "source": [
        "## question 3"
      ]
    },
    {
      "cell_type": "code",
      "metadata": {
        "id": "BfCHAtpKLxw3",
        "colab_type": "code",
        "colab": {}
      },
      "source": [
        "class_7_label = [0.,0.,0.,0.,0.,0.,0.,1.,0.,0.]\n",
        "index_class7 = test_labels.tolist().index(class_7_label)\n",
        "input_image, input_label = shape_as_image(test_images[index_class7], test_labels[index_class7])"
      ],
      "execution_count": 0,
      "outputs": []
    },
    {
      "cell_type": "code",
      "metadata": {
        "id": "JyXyc5cbMv2W",
        "colab_type": "code",
        "colab": {}
      },
      "source": [
        "#finding perturbation\n",
        "k=5\n",
        "epsilon=0.3\n",
        "original_image = input_image\n",
        "for _ in range (k):\n",
        "  grad_inputx = grad(loss_adversarial,1)(params, original_image, input_label)\n",
        "  original_image = original_image + epsilon/k * np.sign(grad_inputx)"
      ],
      "execution_count": 0,
      "outputs": []
    },
    {
      "cell_type": "code",
      "metadata": {
        "id": "SYSP7O-jOv17",
        "colab_type": "code",
        "outputId": "7b3b7d45-cad5-4493-922f-506e4e086ddd",
        "colab": {
          "base_uri": "https://localhost:8080/",
          "height": 282
        }
      },
      "source": [
        "#visualization of the perturbed image\n",
        "visualize_image = original_image\n",
        "visualize_image = np.reshape(visualize_image, (28,28))\n",
        "plt.imshow(visualize_image, interpolation='nearest')"
      ],
      "execution_count": 23,
      "outputs": [
        {
          "output_type": "execute_result",
          "data": {
            "text/plain": [
              "<matplotlib.image.AxesImage at 0x7f4ef3510b70>"
            ]
          },
          "metadata": {
            "tags": []
          },
          "execution_count": 23
        },
        {
          "output_type": "display_data",
          "data": {
            "image/png": "[encoded data removed]",
            "text/plain": [
              "<Figure size 432x288 with 1 Axes>"
            ]
          },
          "metadata": {
            "tags": []
          }
        }
      ]
    },
    {
      "cell_type": "code",
      "metadata": {
        "id": "DqXKmdeiPAHR",
        "colab_type": "code",
        "outputId": "6e15c484-87cd-41ee-980c-98680acad0f8",
        "colab": {
          "base_uri": "https://localhost:8080/",
          "height": 68
        }
      },
      "source": [
        "#prediction vector on original image\n",
        "print(\"original image prediction class is:\",np.argmax(input_label))\n",
        "original_vector = predict(params, input_image)\n",
        "print(\"original image prediction vector:\",original_vector)"
      ],
      "execution_count": 24,
      "outputs": [
        {
          "output_type": "stream",
          "text": [
            "original image prediction class is: 7\n",
            "original image prediction vector: [[ -6.252203    1.5817097  -3.5154386   2.4587338   4.4790573  -8.702801\n",
            "  -16.247257   28.22652    -7.763813    5.988873 ]]\n"
          ],
          "name": "stdout"
        }
      ]
    },
    {
      "cell_type": "code",
      "metadata": {
        "id": "amf7IzVaPFoM",
        "colab_type": "code",
        "outputId": "9f8d8692-b1b5-4aff-b91c-72afcd5440d8",
        "colab": {
          "base_uri": "https://localhost:8080/",
          "height": 119
        }
      },
      "source": [
        "#prediction vector on perturbed image\n",
        "prediction=predict(params, original_image)\n",
        "print(\"perturbed image prediction vector:\\n\",prediction)\n",
        "print(\"\\n\")\n",
        "print(\"perturbed image prediction class is:\",np.argmax(prediction))"
      ],
      "execution_count": 25,
      "outputs": [
        {
          "output_type": "stream",
          "text": [
            "perturbed image prediction vector:\n",
            " [[ -7.270721   -7.402145   -8.604808    5.975889    5.25399     1.1150608\n",
            "  -18.148315    3.550653    0.6232727  25.983038 ]]\n",
            "\n",
            "\n",
            "perturbed image prediction class is: 9\n"
          ],
          "name": "stdout"
        }
      ]
    },
    {
      "cell_type": "markdown",
      "metadata": {
        "id": "y3ZDkibrQWG7",
        "colab_type": "text"
      },
      "source": [
        "## question 4"
      ]
    },
    {
      "cell_type": "code",
      "metadata": {
        "id": "9-fbN20YQapH",
        "colab_type": "code",
        "colab": {}
      },
      "source": [
        "image = test_images[0:1000]\n",
        "label = test_labels[0:1000]\n",
        "input_image_q4, input_label_q4 = shape_as_image(image, label)"
      ],
      "execution_count": 0,
      "outputs": []
    },
    {
      "cell_type": "code",
      "metadata": {
        "id": "EE0ki0ekQ72U",
        "colab_type": "code",
        "colab": {}
      },
      "source": [
        "accuracy_result= []\n",
        "k=5\n",
        "epsilon = np.arange(0,2,0.01).tolist()\n",
        "original_image = input_image_q4\n",
        "for e in epsilon: \n",
        "\n",
        "  for _ in range (k):\n",
        "    grad_inputx = grad(loss_adversarial,1)(params, original_image, input_label_q4)\n",
        "    original_image = original_image + e/k * np.sign(grad_inputx)\n",
        "\n",
        "    #calculate accuracy\n",
        "  test_acc = accuracy(params, shape_as_image(original_image, label))\n",
        "  accuracy_result.append(test_acc)"
      ],
      "execution_count": 0,
      "outputs": []
    },
    {
      "cell_type": "code",
      "metadata": {
        "id": "gnneRjV1Xnxn",
        "colab_type": "code",
        "outputId": "e1fdc6a5-e02f-4696-c16d-b3b190323082",
        "colab": {
          "base_uri": "https://localhost:8080/",
          "height": 279
        }
      },
      "source": [
        "#plot\n",
        "plt.plot(epsilon, accuracy_result)\n",
        "plt.xlabel(\"epsilon\")\n",
        "plt.ylabel(\"average accuracy of 1000 images\")\n",
        "plt.show()"
      ],
      "execution_count": 28,
      "outputs": [
        {
          "output_type": "display_data",
          "data": {
            "image/png": "[encoded data removed]",
            "text/plain": [
              "<Figure size 432x288 with 1 Axes>"
            ]
          },
          "metadata": {
            "tags": []
          }
        }
      ]
    }
  ]
}